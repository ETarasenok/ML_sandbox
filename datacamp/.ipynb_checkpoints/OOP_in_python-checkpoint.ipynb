{
 "cells": [
  {
   "cell_type": "markdown",
   "metadata": {},
   "source": [
    "***Python Object-Oriented Programming (OOP): Tutorial***"
   ]
  },
  {
   "cell_type": "markdown",
   "metadata": {},
   "source": [
    "https://www.datacamp.com/community/tutorials/python-oop-tutorial"
   ]
  },
  {
   "cell_type": "markdown",
   "metadata": {},
   "source": [
    "To define a class in Python, you can use the class keyword, followed by the class name and a colon. Inside the class, an __init__ method has to be defined with def. This is the initializer that you can later use to instantiate objects. It's similar to a constructor in Java. __init__ must always be present! It takes one argument: self, which refers to the object itself. Inside the method, the pass keyword is used as of now, because Python expects you to type something there. Remember to use correct indentation!"
   ]
  },
  {
   "cell_type": "markdown",
   "metadata": {},
   "source": [
    "After printing ozzy, it is clear that this object is a dog. But you haven't added any attributes yet. Let's give the Dog class a name and age, by rewriting it:"
   ]
  },
  {
   "cell_type": "markdown",
   "metadata": {},
   "source": [
    "Now that you have aDog class, it does have a name and age which you can keep track of, but it doesn't actually do anything. This is where instance methods come in. You can rewrite the class to now include a bark() method. Notice how the def keyword is used again, as well as the self argument."
   ]
  },
  {
   "cell_type": "markdown",
   "metadata": {},
   "source": [
    "The bark method can now be called using the dot notation, after instantiating a new ozzy object. The method should print \"bark bark!\" to the screen. Notice the parentheses (curly brackets) in .bark(). These are always used when calling a method. They're empty in this case, since the bark() method does not take any arguments."
   ]
  },
  {
   "cell_type": "markdown",
   "metadata": {},
   "source": [
    "You would like for our dogs to have a buddy. This should be optional, since not all dogs are as sociable. Take a look at the setBuddy() method below. It takes self, as per usual, and buddy as arguments. In this case, buddy will be another Dog object.\n",
    "\n",
    "Set the self.buddy attribute to buddy, and the buddy.buddy attribute to self. This means that the relationship is reciprocal; you are your buddy's buddy. \n",
    "\n",
    "In this case, Filou will be Ozzy's buddy, which means that Ozzy automatically becomes Filou's buddy. You could also set these attributes manually, instead of defining a method, but that would require more work (writing 2 lines of code instead of 1) every time you want to set a buddy. \n",
    "\n",
    "Notice that in Python, you don't need to specify of what type the argument is. If this were Java, it would be required."
   ]
  },
  {
   "cell_type": "code",
   "execution_count": 54,
   "metadata": {},
   "outputs": [],
   "source": [
    "class Dog:\n",
    "    \n",
    "    def __init__(self, name, age):\n",
    "        self.name = name\n",
    "        self.age = age\n",
    "    \n",
    "    def bark(self):\n",
    "        print('bark bark!')\n",
    "        \n",
    "    def doginfo(self):\n",
    "        print(self.name + ' is ' + str(self.age) + ' year(s) old.')\n",
    "        \n",
    "    def birthday(self):\n",
    "        self.age +=1\n",
    "    \n",
    "    def setBuddy(self, buddy):\n",
    "        self.buddy = buddy\n",
    "        buddy.buddy = self"
   ]
  },
  {
   "cell_type": "code",
   "execution_count": 55,
   "metadata": {},
   "outputs": [],
   "source": [
    "ozzy = Dog(\"Ozzy\",2)\n",
    "skippy = Dog(\"Skippy\", 12)\n",
    "filou = Dog('Filou',8)"
   ]
  },
  {
   "cell_type": "code",
   "execution_count": 56,
   "metadata": {},
   "outputs": [],
   "source": [
    "ozzy.setBuddy(filou)"
   ]
  },
  {
   "cell_type": "code",
   "execution_count": 58,
   "metadata": {},
   "outputs": [
    {
     "name": "stdout",
     "output_type": "stream",
     "text": [
      "Filou\n",
      "8\n"
     ]
    }
   ],
   "source": [
    "print(ozzy.buddy.name)\n",
    "print(ozzy.buddy.age)"
   ]
  },
  {
   "cell_type": "code",
   "execution_count": 60,
   "metadata": {},
   "outputs": [
    {
     "name": "stdout",
     "output_type": "stream",
     "text": [
      "Ozzy\n",
      "2\n"
     ]
    }
   ],
   "source": [
    "print(filou.buddy.name)\n",
    "print(filou.buddy.age)"
   ]
  },
  {
   "cell_type": "code",
   "execution_count": 61,
   "metadata": {},
   "outputs": [
    {
     "name": "stdout",
     "output_type": "stream",
     "text": [
      "Filou is 8 year(s) old.\n"
     ]
    }
   ],
   "source": [
    "ozzy.buddy.doginfo()"
   ]
  },
  {
   "cell_type": "code",
   "execution_count": 42,
   "metadata": {},
   "outputs": [
    {
     "name": "stdout",
     "output_type": "stream",
     "text": [
      "Ozzy is 2 year(s) old.\n",
      "Skippy is 12 year(s) old.\n",
      "Filou is 8 year(s) old.\n"
     ]
    }
   ],
   "source": [
    "ozzy.doginfo()\n",
    "skippy.doginfo()\n",
    "filou.doginfo()"
   ]
  },
  {
   "cell_type": "code",
   "execution_count": 43,
   "metadata": {},
   "outputs": [
    {
     "name": "stdout",
     "output_type": "stream",
     "text": [
      "<__main__.Dog object at 0x10755a438>\n"
     ]
    }
   ],
   "source": [
    "print(ozzy)"
   ]
  },
  {
   "cell_type": "code",
   "execution_count": 44,
   "metadata": {},
   "outputs": [
    {
     "name": "stdout",
     "output_type": "stream",
     "text": [
      "Ozzy\n"
     ]
    }
   ],
   "source": [
    "print(ozzy.name)"
   ]
  },
  {
   "cell_type": "code",
   "execution_count": 45,
   "metadata": {},
   "outputs": [
    {
     "name": "stdout",
     "output_type": "stream",
     "text": [
      "2\n"
     ]
    }
   ],
   "source": [
    "print(ozzy.age)"
   ]
  },
  {
   "cell_type": "code",
   "execution_count": 46,
   "metadata": {},
   "outputs": [
    {
     "name": "stdout",
     "output_type": "stream",
     "text": [
      "Ozzy is 2year(s) old.\n"
     ]
    }
   ],
   "source": [
    "print(ozzy.name + ' is ' + str(ozzy.age) + 'year(s) old.')"
   ]
  },
  {
   "cell_type": "code",
   "execution_count": 47,
   "metadata": {},
   "outputs": [
    {
     "name": "stdout",
     "output_type": "stream",
     "text": [
      "bark bark!\n"
     ]
    }
   ],
   "source": [
    "ozzy.bark()"
   ]
  },
  {
   "cell_type": "code",
   "execution_count": 48,
   "metadata": {},
   "outputs": [],
   "source": [
    "ozzy.age = 3"
   ]
  },
  {
   "cell_type": "code",
   "execution_count": 49,
   "metadata": {},
   "outputs": [
    {
     "name": "stdout",
     "output_type": "stream",
     "text": [
      "3\n"
     ]
    }
   ],
   "source": [
    "print(ozzy.age)"
   ]
  },
  {
   "cell_type": "code",
   "execution_count": 52,
   "metadata": {},
   "outputs": [
    {
     "name": "stdout",
     "output_type": "stream",
     "text": [
      "4\n"
     ]
    }
   ],
   "source": [
    "print(ozzy.age)"
   ]
  },
  {
   "cell_type": "code",
   "execution_count": 51,
   "metadata": {},
   "outputs": [],
   "source": [
    "ozzy.birthday()"
   ]
  },
  {
   "cell_type": "markdown",
   "metadata": {},
   "source": [
    "***Example: OOP in Python for finance***"
   ]
  },
  {
   "cell_type": "markdown",
   "metadata": {},
   "source": [
    "An example for where Object-Oriented programming in Python might come in handy, is our Python For Finance: Algorithmic Trading tutorial. In it, Karlijn explains how to set up a trading strategy for a stock portfolio. The trading strategy is based on the moving average of a stock price. If signals['short_mavg'][short_window:] > signals['long_mavg'][short_window:] is fulfilled, a signal is created. This signal is a prediction for the stock's future price change. In the code below, you'll see that there is first a initialisation, followed by the moving average calculation and signal generation. Since this is not object-oriented code, it's just one big chunk that gets executed at once. Notice that we're using aapl in the example, which is Apple's stock ticker. If you wanted to do this for a different stock, you would have to rewrite the code."
   ]
  },
  {
   "cell_type": "code",
   "execution_count": 83,
   "metadata": {},
   "outputs": [],
   "source": [
    "import pandas as pd\n",
    "import numpy as np"
   ]
  },
  {
   "cell_type": "code",
   "execution_count": 123,
   "metadata": {},
   "outputs": [],
   "source": [
    "import pandas_datareader as pdr\n",
    "import datetime \n",
    "aapl = pdr.get_data_yahoo('AAPL', \n",
    "                          start=datetime.datetime(2014, 1, 1), \n",
    "                          end=datetime.datetime(2017, 3, 1))"
   ]
  },
  {
   "cell_type": "code",
   "execution_count": 127,
   "metadata": {},
   "outputs": [],
   "source": [
    "msft = pdr.get_data_yahoo('MSFT', \n",
    "                          start=datetime.datetime(2014, 1, 1), \n",
    "                          end=datetime.datetime(2017, 3, 1))"
   ]
  },
  {
   "cell_type": "code",
   "execution_count": 85,
   "metadata": {},
   "outputs": [],
   "source": [
    "short_window = 40\n",
    "long_window = 100\n",
    "signals = pd.DataFrame(index=aapl.index)\n",
    "signals['signal'] = 0.0"
   ]
  },
  {
   "cell_type": "code",
   "execution_count": 129,
   "metadata": {},
   "outputs": [],
   "source": [
    "# Create short simple moving average over the short window\n",
    "signals['short_mavg'] = aapl['Close'].rolling(window=short_window, min_periods=1, center=False).mean()\n",
    "\n",
    "# Create long simple moving average over the long window\n",
    "signals['long_mavg'] = aapl['Close'].rolling(window=long_window, min_periods=1, center=False).mean()\n",
    "\n",
    "# Create signals\n",
    "signals['signal'][short_window:] = np.where(signals['short_mavg'][short_window:] > signals['long_mavg'][short_window:], 1.0, 0.0)   \n",
    "\n",
    "# Generate trading orders\n",
    "signals['positions'] = signals['signal'].diff()"
   ]
  },
  {
   "cell_type": "code",
   "execution_count": 130,
   "metadata": {},
   "outputs": [
    {
     "data": {
      "text/html": [
       "<div>\n",
       "<style scoped>\n",
       "    .dataframe tbody tr th:only-of-type {\n",
       "        vertical-align: middle;\n",
       "    }\n",
       "\n",
       "    .dataframe tbody tr th {\n",
       "        vertical-align: top;\n",
       "    }\n",
       "\n",
       "    .dataframe thead th {\n",
       "        text-align: right;\n",
       "    }\n",
       "</style>\n",
       "<table border=\"1\" class=\"dataframe\">\n",
       "  <thead>\n",
       "    <tr style=\"text-align: right;\">\n",
       "      <th></th>\n",
       "      <th>signal</th>\n",
       "      <th>short_mavg</th>\n",
       "      <th>long_mavg</th>\n",
       "      <th>positions</th>\n",
       "    </tr>\n",
       "    <tr>\n",
       "      <th>Date</th>\n",
       "      <th></th>\n",
       "      <th></th>\n",
       "      <th></th>\n",
       "      <th></th>\n",
       "    </tr>\n",
       "  </thead>\n",
       "  <tbody>\n",
       "    <tr>\n",
       "      <th>2014-04-28</th>\n",
       "      <td>1.0</td>\n",
       "      <td>76.348714</td>\n",
       "      <td>76.243457</td>\n",
       "      <td>1.0</td>\n",
       "    </tr>\n",
       "    <tr>\n",
       "      <th>2015-12-02</th>\n",
       "      <td>1.0</td>\n",
       "      <td>116.218500</td>\n",
       "      <td>116.019000</td>\n",
       "      <td>1.0</td>\n",
       "    </tr>\n",
       "    <tr>\n",
       "      <th>2016-04-18</th>\n",
       "      <td>1.0</td>\n",
       "      <td>104.798000</td>\n",
       "      <td>104.477300</td>\n",
       "      <td>1.0</td>\n",
       "    </tr>\n",
       "    <tr>\n",
       "      <th>2016-08-17</th>\n",
       "      <td>1.0</td>\n",
       "      <td>100.771250</td>\n",
       "      <td>100.580800</td>\n",
       "      <td>1.0</td>\n",
       "    </tr>\n",
       "  </tbody>\n",
       "</table>\n",
       "</div>"
      ],
      "text/plain": [
       "            signal  short_mavg   long_mavg  positions\n",
       "Date                                                 \n",
       "2014-04-28     1.0   76.348714   76.243457        1.0\n",
       "2015-12-02     1.0  116.218500  116.019000        1.0\n",
       "2016-04-18     1.0  104.798000  104.477300        1.0\n",
       "2016-08-17     1.0  100.771250  100.580800        1.0"
      ]
     },
     "execution_count": 130,
     "metadata": {},
     "output_type": "execute_result"
    }
   ],
   "source": [
    "signals[signals.positions > 0]"
   ]
  },
  {
   "cell_type": "code",
   "execution_count": 97,
   "metadata": {},
   "outputs": [
    {
     "data": {
      "text/html": [
       "<div>\n",
       "<style scoped>\n",
       "    .dataframe tbody tr th:only-of-type {\n",
       "        vertical-align: middle;\n",
       "    }\n",
       "\n",
       "    .dataframe tbody tr th {\n",
       "        vertical-align: top;\n",
       "    }\n",
       "\n",
       "    .dataframe thead th {\n",
       "        text-align: right;\n",
       "    }\n",
       "</style>\n",
       "<table border=\"1\" class=\"dataframe\">\n",
       "  <thead>\n",
       "    <tr style=\"text-align: right;\">\n",
       "      <th></th>\n",
       "      <th>signal</th>\n",
       "      <th>short_mavg</th>\n",
       "      <th>long_mavg</th>\n",
       "      <th>positions</th>\n",
       "    </tr>\n",
       "    <tr>\n",
       "      <th>Date</th>\n",
       "      <th></th>\n",
       "      <th></th>\n",
       "      <th></th>\n",
       "      <th></th>\n",
       "    </tr>\n",
       "  </thead>\n",
       "  <tbody>\n",
       "    <tr>\n",
       "      <th>2014-04-25</th>\n",
       "      <td>0.0</td>\n",
       "      <td>76.106393</td>\n",
       "      <td>76.135625</td>\n",
       "      <td>0.0</td>\n",
       "    </tr>\n",
       "    <tr>\n",
       "      <th>2014-04-28</th>\n",
       "      <td>1.0</td>\n",
       "      <td>76.348714</td>\n",
       "      <td>76.243457</td>\n",
       "      <td>1.0</td>\n",
       "    </tr>\n",
       "    <tr>\n",
       "      <th>2014-04-29</th>\n",
       "      <td>1.0</td>\n",
       "      <td>76.579321</td>\n",
       "      <td>76.345592</td>\n",
       "      <td>0.0</td>\n",
       "    </tr>\n",
       "  </tbody>\n",
       "</table>\n",
       "</div>"
      ],
      "text/plain": [
       "            signal  short_mavg  long_mavg  positions\n",
       "Date                                                \n",
       "2014-04-25     0.0   76.106393  76.135625        0.0\n",
       "2014-04-28     1.0   76.348714  76.243457        1.0\n",
       "2014-04-29     1.0   76.579321  76.345592        0.0"
      ]
     },
     "execution_count": 97,
     "metadata": {},
     "output_type": "execute_result"
    }
   ],
   "source": [
    "signals[signals.index.isin(['2014-04-25','2014-04-28','2014-04-29'])]"
   ]
  },
  {
   "cell_type": "markdown",
   "metadata": {},
   "source": [
    "In an object-oriented approach, you only need to write the initialisation and signal generation code once. You can then create a new object for each stock you want to calculate a strategy on, and call the generate_signals() method on it. Notice that the OOP code is very similar to the code above, with the addition of self."
   ]
  },
  {
   "cell_type": "code",
   "execution_count": 115,
   "metadata": {},
   "outputs": [],
   "source": [
    "class MovingAverage():\n",
    "    \n",
    "    def __init__(self,symbol,bars,short_window,long_window):\n",
    "        self.symbol = symbol\n",
    "        self.bars = bars\n",
    "        self.short_window = short_window\n",
    "        self.long_window = long_window\n",
    "        \n",
    "    def generate_signals(self):\n",
    "        \n",
    "        signals = pd.DataFrame(index = self.bars.index)\n",
    "        signals['signals'] = 0.0\n",
    "        \n",
    "        signals['short_mavg'] = self.bars['Close'].rolling(window=self.short_window, min_periods=1, center=False).mean()\n",
    "        signals['long_mavg'] = self.bars['Close'].rolling(window=self.long_window, min_periods=1, center=False).mean()\n",
    "\n",
    "        signals['signals'][self.short_window:] = np.where(signals['short_mavg'][self.short_window:] > signals['long_mavg'][self.short_window:], 1.0, 0.0)   \n",
    "\n",
    "        signals['positions'] = signals['signals'].diff()\n",
    "        \n",
    "        return signals\n"
   ]
  },
  {
   "cell_type": "code",
   "execution_count": 124,
   "metadata": {},
   "outputs": [
    {
     "name": "stdout",
     "output_type": "stream",
     "text": [
      "            signals  short_mavg   long_mavg  positions\n",
      "Date                                                  \n",
      "2013-12-31      0.0   80.145714   80.145714        NaN\n",
      "2014-01-02      0.0   79.582142   79.582142        0.0\n",
      "2014-01-03      0.0   78.815715   78.815715        0.0\n",
      "2014-01-06      0.0   78.537857   78.537857        0.0\n",
      "2014-01-07      0.0   78.260001   78.260001        0.0\n",
      "2014-01-08      0.0   78.156192   78.156192        0.0\n",
      "2014-01-09      0.0   77.940409   77.940409        0.0\n",
      "2014-01-10      0.0   77.714644   77.714644        0.0\n",
      "2014-01-13      0.0   77.583334   77.583334        0.0\n",
      "2014-01-14      0.0   77.630573   77.630573        0.0\n",
      "2014-01-15      0.0   77.811689   77.811689        0.0\n",
      "2014-01-16      0.0   77.925596   77.925596        0.0\n",
      "2014-01-17      0.0   77.872748   77.872748        0.0\n",
      "2014-01-21      0.0   77.913164   77.913164        0.0\n",
      "2014-01-22      0.0   77.971429   77.971429        0.0\n",
      "2014-01-23      0.0   78.064107   78.064107        0.0\n",
      "2014-01-24      0.0   78.060925   78.060925        0.0\n",
      "2014-01-27      0.0   78.093255   78.093255        0.0\n",
      "2014-01-28      0.0   77.791354   77.791354        0.0\n",
      "2014-01-29      0.0   77.478572   77.478572        0.0\n",
      "2014-01-30      0.0   77.188980   77.188980        0.0\n",
      "2014-01-31      0.0   76.931039   76.931039        0.0\n",
      "2014-02-03      0.0   76.701304   76.701304        0.0\n",
      "2014-02-04      0.0   76.533929   76.533929        0.0\n",
      "2014-02-05      0.0   76.401657   76.401657        0.0\n",
      "2014-02-06      0.0   76.279121   76.279121        0.0\n",
      "2014-02-07      0.0   76.203598   76.203598        0.0\n",
      "2014-02-10      0.0   76.180969   76.180969        0.0\n",
      "2014-02-11      0.0   76.194236   76.194236        0.0\n",
      "2014-02-12      0.0   76.206428   76.206428        0.0\n",
      "...             ...         ...         ...        ...\n",
      "2017-01-18      1.0  114.850750  113.083900        0.0\n",
      "2017-01-19      1.0  115.093750  113.206000        0.0\n",
      "2017-01-20      1.0  115.300500  113.336600        0.0\n",
      "2017-01-23      1.0  115.507500  113.469200        0.0\n",
      "2017-01-24      1.0  115.726000  113.608900        0.0\n",
      "2017-01-25      1.0  115.978250  113.766700        0.0\n",
      "2017-01-26      1.0  116.237500  113.918800        0.0\n",
      "2017-01-27      1.0  116.499750  114.061000        0.0\n",
      "2017-01-30      1.0  116.777500  114.200300        0.0\n",
      "2017-01-31      1.0  117.074000  114.330200        0.0\n",
      "2017-02-01      1.0  117.545250  114.562500        0.0\n",
      "2017-02-02      1.0  118.030750  114.816500        0.0\n",
      "2017-02-03      1.0  118.509000  115.052900        0.0\n",
      "2017-02-06      1.0  118.990500  115.276300        0.0\n",
      "2017-02-07      1.0  119.475750  115.473900        0.0\n",
      "2017-02-08      1.0  119.928000  115.638600        0.0\n",
      "2017-02-09      1.0  120.406000  115.813600        0.0\n",
      "2017-02-10      1.0  120.829249  115.999000        0.0\n",
      "2017-02-13      1.0  121.281749  116.196200        0.0\n",
      "2017-02-14      1.0  121.761749  116.410900        0.0\n",
      "2017-02-15      1.0  122.250249  116.619800        0.0\n",
      "2017-02-16      1.0  122.717999  116.846200        0.0\n",
      "2017-02-17      1.0  123.187249  117.074600        0.0\n",
      "2017-02-21      1.0  123.678249  117.310700        0.0\n",
      "2017-02-22      1.0  124.198749  117.542300        0.0\n",
      "2017-02-23      1.0  124.698999  117.785800        0.0\n",
      "2017-02-24      1.0  125.183999  118.021900        0.0\n",
      "2017-02-27      1.0  125.688249  118.266000        0.0\n",
      "2017-02-28      1.0  126.194749  118.505900        0.0\n",
      "2017-03-01      1.0  126.793999  118.773300        0.0\n",
      "\n",
      "[797 rows x 4 columns]\n"
     ]
    }
   ],
   "source": [
    "apple = MovingAverage('aapl',aapl,40,100)\n",
    "print(apple.generate_signals())"
   ]
  },
  {
   "cell_type": "code",
   "execution_count": 128,
   "metadata": {},
   "outputs": [
    {
     "name": "stdout",
     "output_type": "stream",
     "text": [
      "            signals  short_mavg  long_mavg  positions\n",
      "Date                                                 \n",
      "2013-12-31      0.0   37.410000  37.410000        NaN\n",
      "2014-01-02      0.0   37.285000  37.285000        0.0\n",
      "2014-01-03      0.0   37.160000  37.160000        0.0\n",
      "2014-01-06      0.0   36.902500  36.902500        0.0\n",
      "2014-01-07      0.0   36.804000  36.804000        0.0\n",
      "2014-01-08      0.0   36.630000  36.630000        0.0\n",
      "2014-01-09      0.0   36.472857  36.472857        0.0\n",
      "2014-01-10      0.0   36.418750  36.418750        0.0\n",
      "2014-01-13      0.0   36.258889  36.258889        0.0\n",
      "2014-01-14      0.0   36.211000  36.211000        0.0\n",
      "2014-01-15      0.0   36.260909  36.260909        0.0\n",
      "2014-01-16      0.0   36.313333  36.313333        0.0\n",
      "2014-01-17      0.0   36.318461  36.318461        0.0\n",
      "2014-01-21      0.0   36.307857  36.307857        0.0\n",
      "2014-01-22      0.0   36.282666  36.282666        0.0\n",
      "2014-01-23      0.0   36.268750  36.268750        0.0\n",
      "2014-01-24      0.0   36.300588  36.300588        0.0\n",
      "2014-01-27      0.0   36.285555  36.285555        0.0\n",
      "2014-01-28      0.0   36.284737  36.284737        0.0\n",
      "2014-01-29      0.0   36.303500  36.303500        0.0\n",
      "2014-01-30      0.0   36.330000  36.330000        0.0\n",
      "2014-01-31      0.0   36.398636  36.398636        0.0\n",
      "2014-02-03      0.0   36.402174  36.402174        0.0\n",
      "2014-02-04      0.0   36.400000  36.400000        0.0\n",
      "2014-02-05      0.0   36.376800  36.376800        0.0\n",
      "2014-02-06      0.0   36.369231  36.369231        0.0\n",
      "2014-02-07      0.0   36.376296  36.376296        0.0\n",
      "2014-02-10      0.0   36.391428  36.391428        0.0\n",
      "2014-02-11      0.0   36.418276  36.418276        0.0\n",
      "2014-02-12      0.0   36.453333  36.453333        0.0\n",
      "...             ...         ...        ...        ...\n",
      "2017-01-18      1.0   61.962750  59.708000        0.0\n",
      "2017-01-19      1.0   62.011500  59.749300        0.0\n",
      "2017-01-20      1.0   62.058500  59.796400        0.0\n",
      "2017-01-23      1.0   62.104500  59.845000        0.0\n",
      "2017-01-24      1.0   62.182500  59.901300        0.0\n",
      "2017-01-25      1.0   62.261250  59.963500        0.0\n",
      "2017-01-26      1.0   62.352750  60.030300        0.0\n",
      "2017-01-27      1.0   62.470000  60.111400        0.0\n",
      "2017-01-30      1.0   62.591750  60.186600        0.0\n",
      "2017-01-31      1.0   62.728000  60.256500        0.0\n",
      "2017-02-01      1.0   62.836250  60.318000        0.0\n",
      "2017-02-02      1.0   62.910000  60.387600        0.0\n",
      "2017-02-03      1.0   63.003250  60.453900        0.0\n",
      "2017-02-06      1.0   63.060000  60.525000        0.0\n",
      "2017-02-07      1.0   63.120500  60.596700        0.0\n",
      "2017-02-08      1.0   63.154750  60.658200        0.0\n",
      "2017-02-09      1.0   63.202000  60.726300        0.0\n",
      "2017-02-10      1.0   63.227500  60.797000        0.0\n",
      "2017-02-13      1.0   63.278500  60.876100        0.0\n",
      "2017-02-14      1.0   63.328250  60.944200        0.0\n",
      "2017-02-15      1.0   63.384000  61.011300        0.0\n",
      "2017-02-16      1.0   63.406500  61.082200        0.0\n",
      "2017-02-17      1.0   63.433500  61.159400        0.0\n",
      "2017-02-21      1.0   63.457250  61.224800        0.0\n",
      "2017-02-22      1.0   63.477500  61.288100        0.0\n",
      "2017-02-23      1.0   63.512000  61.360300        0.0\n",
      "2017-02-24      1.0   63.545500  61.430500        0.0\n",
      "2017-02-27      1.0   63.576500  61.498600        0.0\n",
      "2017-02-28      1.0   63.603500  61.566000        0.0\n",
      "2017-03-01      1.0   63.673500  61.639000        0.0\n",
      "\n",
      "[797 rows x 4 columns]\n"
     ]
    }
   ],
   "source": [
    "microsoft = MovingAverage('msft', msft, 40, 100)\n",
    "print(microsoft.generate_signals())"
   ]
  },
  {
   "cell_type": "markdown",
   "metadata": {},
   "source": [
    "You now know how to declare classes and methods, instantiate objects, set their attributes and call instance methods. These skills will come in handy during your future career as a data scientist. If you want to expand the key concepts that you need to further work with Python, be sure to check out our Intermediate Python for Data Science course.\n",
    "\n",
    "With OOP, your code will grow in complexity as your program gets larger. You will have different classes, subclasses, objects, inheritance, instance methods, and more. You'll want to keep your code properly structured and readable. To do so, it is advised to follow design patterns. These are design principles that represent a set of guidelines to avoid bad design. They each represent a specific problem that often reoccurs in OOP, and describe the solution to that problem, which can then be used repeatedly. These OOP design patterns can be classified in several categories: creational patterns, structural patterns and behavioral patterns. An example of a creational pattern is the singleton, which should be used when you want to make sure that only one instance of a class can be created. An iterator, which is used to loop over all objects in a collection, is an example of a behavioral pattern. A great resource for design patterns is oodesign.com. If you're more into books, I would recommend you to read Design Patterns: Elements of Reusable Object-Oriented Software."
   ]
  },
  {
   "cell_type": "code",
   "execution_count": null,
   "metadata": {},
   "outputs": [],
   "source": []
  }
 ],
 "metadata": {
  "kernelspec": {
   "display_name": "Python 3",
   "language": "python",
   "name": "python3"
  },
  "language_info": {
   "codemirror_mode": {
    "name": "ipython",
    "version": 3
   },
   "file_extension": ".py",
   "mimetype": "text/x-python",
   "name": "python",
   "nbconvert_exporter": "python",
   "pygments_lexer": "ipython3",
   "version": "3.6.4"
  }
 },
 "nbformat": 4,
 "nbformat_minor": 2
}
