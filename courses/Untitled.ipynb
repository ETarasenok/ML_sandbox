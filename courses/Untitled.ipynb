{
 "cells": [
  {
   "cell_type": "code",
   "execution_count": 11,
   "metadata": {},
   "outputs": [
    {
     "name": "stdout",
     "output_type": "stream",
     "text": [
      "16:32:18.238734\n"
     ]
    }
   ],
   "source": [
    "import datetime\n",
    "\n",
    "result = (datetime.datetime.strptime('16:32:18.238734', \"%H:%M:%S.%f\") - datetime.datetime(1900, 1, 1))\n",
    "\n",
    "print(result)"
   ]
  },
  {
   "cell_type": "code",
   "execution_count": 16,
   "metadata": {},
   "outputs": [
    {
     "name": "stdout",
     "output_type": "stream",
     "text": [
      "59538.238734\n"
     ]
    }
   ],
   "source": [
    "from datetime import datetime\n",
    "\n",
    "result = datetime.strptime('16:32:18.238734','%H:%M:%S.%f') - datetime(1900, 1, 1)\n",
    "\n",
    "print(result.total_seconds())"
   ]
  },
  {
   "cell_type": "code",
   "execution_count": null,
   "metadata": {
    "collapsed": true
   },
   "outputs": [],
   "source": []
  }
 ],
 "metadata": {
  "kernelspec": {
   "display_name": "Python 3",
   "language": "python",
   "name": "python3"
  },
  "language_info": {
   "codemirror_mode": {
    "name": "ipython",
    "version": 3
   },
   "file_extension": ".py",
   "mimetype": "text/x-python",
   "name": "python",
   "nbconvert_exporter": "python",
   "pygments_lexer": "ipython3",
   "version": "3.6.3"
  }
 },
 "nbformat": 4,
 "nbformat_minor": 2
}
