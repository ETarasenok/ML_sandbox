{
 "cells": [
  {
   "cell_type": "markdown",
   "metadata": {},
   "source": [
    "- Use for variable in sequence to process the elements of a sequence one at a time.\n",
    "- The body of a for loop must be indented.\n",
    "- Use len(thing) to determine the length of something that contains other values."
   ]
  },
  {
   "cell_type": "markdown",
   "metadata": {},
   "source": [
    "https://swcarpentry.github.io/python-novice-inflammation/02-loop/"
   ]
  },
  {
   "cell_type": "code",
   "execution_count": 3,
   "metadata": {},
   "outputs": [
    {
     "name": "stdout",
     "output_type": "stream",
     "text": [
      "0\n",
      "1\n",
      "2\n",
      "3\n",
      "4\n"
     ]
    }
   ],
   "source": [
    "for n in range(0,5,1):\n",
    "    print(n)"
   ]
  },
  {
   "cell_type": "code",
   "execution_count": 5,
   "metadata": {},
   "outputs": [
    {
     "name": "stdout",
     "output_type": "stream",
     "text": [
      "125\n"
     ]
    }
   ],
   "source": [
    "res = 1 \n",
    "for n in range(3):\n",
    "    res = res*5\n",
    "print(res)"
   ]
  },
  {
   "cell_type": "code",
   "execution_count": 22,
   "metadata": {},
   "outputs": [
    {
     "name": "stdout",
     "output_type": "stream",
     "text": [
      "notweN\n"
     ]
    }
   ],
   "source": [
    "word2 = ''\n",
    "\n",
    "for letter in 'Newton':\n",
    "    word2 =  letter + word2 \n",
    "print(word2)"
   ]
  },
  {
   "cell_type": "code",
   "execution_count": 23,
   "metadata": {},
   "outputs": [
    {
     "name": "stdout",
     "output_type": "stream",
     "text": [
      "97\n"
     ]
    }
   ],
   "source": [
    "x = 5 \n",
    "cc = [2,4,3]\n",
    "y = 0\n",
    "\n",
    "for i, c in enumerate(cc):\n",
    "    y = y + x**i * c\n",
    "    \n",
    "print(y)"
   ]
  },
  {
   "cell_type": "code",
   "execution_count": 30,
   "metadata": {},
   "outputs": [
    {
     "name": "stdout",
     "output_type": "stream",
     "text": [
      "total 160\r\n",
      "8 -rw-r--r--@ 1 egortarasenok  staff    42B 26 Set 21:25 argv_list.py\r\n",
      "8 -rw-r--r--@ 1 egortarasenok  staff   861B 26 Set 21:25 arith.py\r\n",
      "8 -rw-r--r--@ 1 egortarasenok  staff   929B 26 Set 21:25 check.py\r\n",
      "8 -rw-r--r--@ 1 egortarasenok  staff   101B 26 Set 21:25 count_stdin.py\r\n",
      "8 -rw-r--r--@ 1 egortarasenok  staff   411B 26 Set 21:25 gen_inflammation.py\r\n",
      "8 -rw-r--r--@ 1 egortarasenok  staff   148B 19 Nov 15:38 import sys.py\r\n",
      "8 -rw-r--r--@ 1 egortarasenok  staff   148B 19 Nov 15:36 import_sys_e.py\r\n",
      "8 -rw-r--r--@ 1 egortarasenok  staff   902B 26 Set 21:25 line_count.py\r\n",
      "8 -rw-r--r--@ 1 egortarasenok  staff   478B 26 Set 21:25 my_ls.py\r\n",
      "8 -rw-r--r--@ 1 egortarasenok  staff   188B 26 Set 21:25 readings_01.py\r\n",
      "8 -rw-r--r--@ 1 egortarasenok  staff   227B 26 Set 21:25 readings_02.py\r\n",
      "8 -rw-r--r--@ 1 egortarasenok  staff   246B 26 Set 21:25 readings_03.py\r\n",
      "8 -rw-r--r--@ 1 egortarasenok  staff   485B 26 Set 21:25 readings_04.py\r\n",
      "8 -rw-r--r--@ 1 egortarasenok  staff   636B 26 Set 21:25 readings_05.py\r\n",
      "8 -rw-r--r--@ 1 egortarasenok  staff   717B 26 Set 21:25 readings_06.py\r\n",
      "8 -rw-r--r--@ 1 egortarasenok  staff   686B 26 Set 21:25 readings_07.py\r\n",
      "8 -rw-r--r--@ 1 egortarasenok  staff   1,0K 26 Set 21:25 readings_08.py\r\n",
      "8 -rw-r--r--@ 1 egortarasenok  staff   841B 26 Set 21:25 readings_09.py\r\n",
      "8 -rw-r--r--@ 1 egortarasenok  staff    89B 26 Set 21:25 rectangle.py\r\n",
      "8 -rw-r--r--@ 1 egortarasenok  staff    44B 26 Set 21:25 sys_version.py\r\n"
     ]
    }
   ],
   "source": [
    "! ls -lhs /Users/egortarasenok/Desktop/python-novice-inflammation/code\n"
   ]
  },
  {
   "cell_type": "code",
   "execution_count": 38,
   "metadata": {},
   "outputs": [],
   "source": [
    "def test_f(x):\n",
    "    return "
   ]
  },
  {
   "cell_type": "code",
   "execution_count": 40,
   "metadata": {},
   "outputs": [
    {
     "name": "stderr",
     "output_type": "stream",
     "text": [
      "ERROR:root:File `'/Users/egortarasenok/Desktop/python-novice-inflammation/code/s3_handling_poc.py'` not found.\n"
     ]
    }
   ],
   "source": [
    "%run '/Users/egortarasenok/Desktop/python-novice-inflammation/code/s3_handling_poc.py'"
   ]
  },
  {
   "cell_type": "code",
   "execution_count": 47,
   "metadata": {},
   "outputs": [
    {
     "name": "stdout",
     "output_type": "stream",
     "text": [
      "DataCamp - Importing and Managing Financial Data in Python.ipynb\r\n",
      "DataCamp - Introduction to Data Visualization with Python.ipynb\r\n",
      "DataCamp - Kaggle Python Tutorial on Machine Learning.ipynb\r\n",
      "Pandas Time Series Analysis.ipynb\r\n",
      "PyAlgoTrade Backtesting Frameworks.ipynb\r\n",
      "Speedml .ipynb\r\n",
      "Swcarpentry - Programming with Python - 1 Analyzing Patient Data.ipynb\r\n",
      "Swcarpentry - Programming with Python - 2 Repeating Actions with Loops.ipynb\r\n",
      "Titanic Data Science Solutions.ipynb\r\n",
      "Untitled.ipynb\r\n",
      "backtrader framework for backtesting and trading.ipynb\r\n",
      "bt Backtesting Frameworks.ipynb\r\n",
      "fbprophet_forecaster.ipynb\r\n",
      "import_sys_e.py\r\n",
      "learning Prophet .ipynb\r\n",
      "lesson2_practice_pandas_titanic.ipynb\r\n",
      "mastering PyAlgoTrade.ipynb\r\n",
      "pydata12_zipline_twiecki.ipynb\r\n",
      "\u001b[31mtitanic-solution-using-speedml.ipynb\u001b[m\u001b[m\r\n",
      "tsfresh.ipynb\r\n"
     ]
    }
   ],
   "source": [
    "! ls"
   ]
  },
  {
   "cell_type": "code",
   "execution_count": null,
   "metadata": {},
   "outputs": [],
   "source": [
    "# %load import_sys_e.py\n",
    "import sys\n",
    "import subprocess\n",
    "\n",
    "def bash_command(cmd):\n",
    "    subprocess.Popen(cmd, shell=True, executable='/bin/bash')\n",
    "\n",
    "x = bash_command('ls')\n",
    "\n",
    "print(x)"
   ]
  },
  {
   "cell_type": "code",
   "execution_count": 50,
   "metadata": {},
   "outputs": [],
   "source": [
    "from import_sys_e import bash_command"
   ]
  },
  {
   "cell_type": "code",
   "execution_count": 51,
   "metadata": {},
   "outputs": [
    {
     "name": "stdout",
     "output_type": "stream",
     "text": [
      "Variable       Type        Data/Info\n",
      "------------------------------------\n",
      "bash_command   function    <function bash_command at 0x110224b70>\n",
      "c              int         3\n",
      "cc             list        n=3\n",
      "i              int         2\n",
      "letter         str         n\n",
      "letter2        list        n=0\n",
      "n              int         2\n",
      "res            int         125\n",
      "test_f         function    <function test_f at 0x1101f2598>\n",
      "word           str         Newton\n",
      "word2          str         notweN\n",
      "x              int         5\n",
      "y              int         97\n"
     ]
    }
   ],
   "source": [
    "%whos"
   ]
  },
  {
   "cell_type": "code",
   "execution_count": null,
   "metadata": {
    "collapsed": true
   },
   "outputs": [],
   "source": []
  }
 ],
 "metadata": {
  "kernelspec": {
   "display_name": "Python 3",
   "language": "python",
   "name": "python3"
  },
  "language_info": {
   "codemirror_mode": {
    "name": "ipython",
    "version": 3
   },
   "file_extension": ".py",
   "mimetype": "text/x-python",
   "name": "python",
   "nbconvert_exporter": "python",
   "pygments_lexer": "ipython3",
   "version": "3.6.3"
  }
 },
 "nbformat": 4,
 "nbformat_minor": 2
}
