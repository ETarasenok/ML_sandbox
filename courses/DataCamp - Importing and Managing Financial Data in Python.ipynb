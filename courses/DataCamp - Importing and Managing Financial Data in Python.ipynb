{
 "cells": [
  {
   "cell_type": "code",
   "execution_count": 1,
   "metadata": {
    "collapsed": true
   },
   "outputs": [],
   "source": [
    "import pandas as pd"
   ]
  },
  {
   "cell_type": "code",
   "execution_count": 3,
   "metadata": {
    "collapsed": true
   },
   "outputs": [],
   "source": [
    "nasdaq = pd.read_csv('/Users/egortarasenok/Desktop/DataCamp-FinData_Python/nasdaq-listings.csv', na_values = 'NAN', parse_dates = ['Last Update'])"
   ]
  },
  {
   "cell_type": "code",
   "execution_count": 4,
   "metadata": {
    "scrolled": false
   },
   "outputs": [
    {
     "data": {
      "text/html": [
       "<div>\n",
       "<style>\n",
       "    .dataframe thead tr:only-child th {\n",
       "        text-align: right;\n",
       "    }\n",
       "\n",
       "    .dataframe thead th {\n",
       "        text-align: left;\n",
       "    }\n",
       "\n",
       "    .dataframe tbody tr th {\n",
       "        vertical-align: top;\n",
       "    }\n",
       "</style>\n",
       "<table border=\"1\" class=\"dataframe\">\n",
       "  <thead>\n",
       "    <tr style=\"text-align: right;\">\n",
       "      <th></th>\n",
       "      <th>Stock Symbol</th>\n",
       "      <th>Company Name</th>\n",
       "      <th>Last Sale</th>\n",
       "      <th>Market Capitalization</th>\n",
       "      <th>IPO Year</th>\n",
       "      <th>Sector</th>\n",
       "      <th>Industry</th>\n",
       "      <th>Last Update</th>\n",
       "    </tr>\n",
       "  </thead>\n",
       "  <tbody>\n",
       "    <tr>\n",
       "      <th>0</th>\n",
       "      <td>AAPL</td>\n",
       "      <td>Apple Inc.</td>\n",
       "      <td>141.05</td>\n",
       "      <td>7.400000e+11</td>\n",
       "      <td>1980.0</td>\n",
       "      <td>Technology</td>\n",
       "      <td>Computer Manufacturing</td>\n",
       "      <td>2017-04-26</td>\n",
       "    </tr>\n",
       "    <tr>\n",
       "      <th>1</th>\n",
       "      <td>GOOGL</td>\n",
       "      <td>Alphabet Inc.</td>\n",
       "      <td>840.18</td>\n",
       "      <td>5.810000e+11</td>\n",
       "      <td>NaN</td>\n",
       "      <td>Technology</td>\n",
       "      <td>Computer Software: Programming, Data Processing</td>\n",
       "      <td>2017-04-24</td>\n",
       "    </tr>\n",
       "  </tbody>\n",
       "</table>\n",
       "</div>"
      ],
      "text/plain": [
       "  Stock Symbol   Company Name  Last Sale  Market Capitalization  IPO Year  \\\n",
       "0         AAPL     Apple Inc.     141.05           7.400000e+11    1980.0   \n",
       "1        GOOGL  Alphabet Inc.     840.18           5.810000e+11       NaN   \n",
       "\n",
       "       Sector                                         Industry Last Update  \n",
       "0  Technology                           Computer Manufacturing  2017-04-26  \n",
       "1  Technology  Computer Software: Programming, Data Processing  2017-04-24  "
      ]
     },
     "execution_count": 4,
     "metadata": {},
     "output_type": "execute_result"
    }
   ],
   "source": [
    "nasdaq.head(2)"
   ]
  },
  {
   "cell_type": "code",
   "execution_count": 5,
   "metadata": {},
   "outputs": [
    {
     "name": "stdout",
     "output_type": "stream",
     "text": [
      "<class 'pandas.core.frame.DataFrame'>\n",
      "RangeIndex: 1115 entries, 0 to 1114\n",
      "Data columns (total 8 columns):\n",
      "Stock Symbol             1115 non-null object\n",
      "Company Name             1115 non-null object\n",
      "Last Sale                1115 non-null float64\n",
      "Market Capitalization    1115 non-null float64\n",
      "IPO Year                 593 non-null float64\n",
      "Sector                   1036 non-null object\n",
      "Industry                 1036 non-null object\n",
      "Last Update              1115 non-null datetime64[ns]\n",
      "dtypes: datetime64[ns](1), float64(3), object(4)\n",
      "memory usage: 69.8+ KB\n"
     ]
    }
   ],
   "source": [
    "nasdaq.info()"
   ]
  },
  {
   "cell_type": "code",
   "execution_count": 24,
   "metadata": {
    "collapsed": true
   },
   "outputs": [],
   "source": [
    "nasdaq = pd.read_excel('/Users/egortarasenok/Desktop/listings.xls', na_values = 'NAN', sheetname = 'nasdaq' )"
   ]
  },
  {
   "cell_type": "code",
   "execution_count": 25,
   "metadata": {},
   "outputs": [
    {
     "data": {
      "text/html": [
       "<div>\n",
       "<style>\n",
       "    .dataframe thead tr:only-child th {\n",
       "        text-align: right;\n",
       "    }\n",
       "\n",
       "    .dataframe thead th {\n",
       "        text-align: left;\n",
       "    }\n",
       "\n",
       "    .dataframe tbody tr th {\n",
       "        vertical-align: top;\n",
       "    }\n",
       "</style>\n",
       "<table border=\"1\" class=\"dataframe\">\n",
       "  <thead>\n",
       "    <tr style=\"text-align: right;\">\n",
       "      <th></th>\n",
       "      <th>Stock Symbol</th>\n",
       "      <th>Company Name</th>\n",
       "      <th>Last Sale</th>\n",
       "      <th>Market Capitalization</th>\n",
       "      <th>IPO Year</th>\n",
       "      <th>Sector</th>\n",
       "      <th>Industry</th>\n",
       "      <th>Last Update</th>\n",
       "    </tr>\n",
       "  </thead>\n",
       "  <tbody>\n",
       "    <tr>\n",
       "      <th>0</th>\n",
       "      <td>AAPL</td>\n",
       "      <td>Apple Inc.</td>\n",
       "      <td>141.05</td>\n",
       "      <td>7.400000e+11</td>\n",
       "      <td>1980.0</td>\n",
       "      <td>Technology</td>\n",
       "      <td>Computer Manufacturing</td>\n",
       "      <td>4/26/17</td>\n",
       "    </tr>\n",
       "    <tr>\n",
       "      <th>1</th>\n",
       "      <td>GOOGL</td>\n",
       "      <td>Alphabet Inc.</td>\n",
       "      <td>840.18</td>\n",
       "      <td>5.810000e+11</td>\n",
       "      <td>NaN</td>\n",
       "      <td>Technology</td>\n",
       "      <td>Computer Software: Programming, Data Processing</td>\n",
       "      <td>4/24/17</td>\n",
       "    </tr>\n",
       "    <tr>\n",
       "      <th>2</th>\n",
       "      <td>GOOG</td>\n",
       "      <td>Alphabet Inc.</td>\n",
       "      <td>823.56</td>\n",
       "      <td>5.690000e+11</td>\n",
       "      <td>2004.0</td>\n",
       "      <td>Technology</td>\n",
       "      <td>Computer Software: Programming, Data Processing</td>\n",
       "      <td>4/23/17</td>\n",
       "    </tr>\n",
       "    <tr>\n",
       "      <th>3</th>\n",
       "      <td>MSFT</td>\n",
       "      <td>Microsoft Corporation</td>\n",
       "      <td>64.95</td>\n",
       "      <td>5.020000e+11</td>\n",
       "      <td>1986.0</td>\n",
       "      <td>Technology</td>\n",
       "      <td>Computer Software: Prepackaged Software</td>\n",
       "      <td>4/26/17</td>\n",
       "    </tr>\n",
       "    <tr>\n",
       "      <th>4</th>\n",
       "      <td>AMZN</td>\n",
       "      <td>Amazon.com, Inc.</td>\n",
       "      <td>884.67</td>\n",
       "      <td>4.220000e+11</td>\n",
       "      <td>1997.0</td>\n",
       "      <td>Consumer Services</td>\n",
       "      <td>Catalog/Specialty Distribution</td>\n",
       "      <td>4/24/17</td>\n",
       "    </tr>\n",
       "  </tbody>\n",
       "</table>\n",
       "</div>"
      ],
      "text/plain": [
       "  Stock Symbol           Company Name  Last Sale  Market Capitalization  \\\n",
       "0         AAPL             Apple Inc.     141.05           7.400000e+11   \n",
       "1        GOOGL          Alphabet Inc.     840.18           5.810000e+11   \n",
       "2         GOOG          Alphabet Inc.     823.56           5.690000e+11   \n",
       "3         MSFT  Microsoft Corporation      64.95           5.020000e+11   \n",
       "4         AMZN       Amazon.com, Inc.     884.67           4.220000e+11   \n",
       "\n",
       "   IPO Year             Sector  \\\n",
       "0    1980.0         Technology   \n",
       "1       NaN         Technology   \n",
       "2    2004.0         Technology   \n",
       "3    1986.0         Technology   \n",
       "4    1997.0  Consumer Services   \n",
       "\n",
       "                                          Industry Last Update  \n",
       "0                           Computer Manufacturing     4/26/17  \n",
       "1  Computer Software: Programming, Data Processing     4/24/17  \n",
       "2  Computer Software: Programming, Data Processing     4/23/17  \n",
       "3          Computer Software: Prepackaged Software     4/26/17  \n",
       "4                   Catalog/Specialty Distribution     4/24/17  "
      ]
     },
     "execution_count": 25,
     "metadata": {},
     "output_type": "execute_result"
    }
   ],
   "source": [
    "nasdaq.head()"
   ]
  },
  {
   "cell_type": "code",
   "execution_count": 26,
   "metadata": {
    "collapsed": true
   },
   "outputs": [],
   "source": [
    "xls = pd.ExcelFile('/Users/egortarasenok/Desktop/listings.xls')"
   ]
  },
  {
   "cell_type": "code",
   "execution_count": 29,
   "metadata": {
    "collapsed": true
   },
   "outputs": [],
   "source": [
    "exchanges = xls.sheet_names"
   ]
  },
  {
   "cell_type": "code",
   "execution_count": 30,
   "metadata": {},
   "outputs": [
    {
     "data": {
      "text/plain": [
       "['nasdaq', 'nyse']"
      ]
     },
     "execution_count": 30,
     "metadata": {},
     "output_type": "execute_result"
    }
   ],
   "source": [
    "exchanges"
   ]
  },
  {
   "cell_type": "code",
   "execution_count": 33,
   "metadata": {
    "collapsed": true
   },
   "outputs": [],
   "source": [
    "listings = pd.read_excel('/Users/egortarasenok/Desktop/listings.xls', na_values = 'NAN', sheetname = exchanges)"
   ]
  },
  {
   "cell_type": "code",
   "execution_count": 38,
   "metadata": {},
   "outputs": [
    {
     "data": {
      "text/plain": [
       "collections.OrderedDict"
      ]
     },
     "execution_count": 38,
     "metadata": {},
     "output_type": "execute_result"
    }
   ],
   "source": []
  },
  {
   "cell_type": "code",
   "execution_count": 39,
   "metadata": {},
   "outputs": [
    {
     "name": "stdout",
     "output_type": "stream",
     "text": [
      "<class 'pandas.core.frame.DataFrame'>\n",
      "RangeIndex: 598 entries, 0 to 597\n",
      "Data columns (total 8 columns):\n",
      "Stock Symbol             598 non-null object\n",
      "Company Name             598 non-null object\n",
      "Last Sale                587 non-null float64\n",
      "Market Capitalization    587 non-null float64\n",
      "IPO Year                 318 non-null float64\n",
      "Sector                   559 non-null object\n",
      "Industry                 559 non-null object\n",
      "Last Update              587 non-null object\n",
      "dtypes: float64(3), object(5)\n",
      "memory usage: 37.5+ KB\n"
     ]
    }
   ],
   "source": [
    "listings['nasdaq'].info()"
   ]
  },
  {
   "cell_type": "code",
   "execution_count": 72,
   "metadata": {
    "collapsed": true
   },
   "outputs": [],
   "source": [
    "xld = pd.ExcelFile('/Users/egortarasenok/Desktop/listings.xls')\n",
    "exchanges = xls.sheet_names\n",
    "\n",
    "listings = []\n",
    "\n",
    "for exchange in exchanges:\n",
    "    listing = pd.read_excel('/Users/egortarasenok/Desktop/listings.xls', sheetname = exchange, na_values = 'NAN')\n",
    "    listing['Exchange'] = exchange\n",
    "    listings.append(listing)\n",
    "\n",
    "combine_listings = pd.concat(listings)"
   ]
  },
  {
   "cell_type": "code",
   "execution_count": 75,
   "metadata": {
    "collapsed": true
   },
   "outputs": [],
   "source": [
    "from pandas_datareader.data import DataReader\n"
   ]
  },
  {
   "cell_type": "code",
   "execution_count": 76,
   "metadata": {
    "collapsed": true
   },
   "outputs": [],
   "source": [
    "from datetime import date\n"
   ]
  },
  {
   "cell_type": "code",
   "execution_count": 80,
   "metadata": {
    "collapsed": true
   },
   "outputs": [],
   "source": [
    "start = date(2016,1,1)\n",
    "end = date(2017,12,31)\n",
    "\n",
    "# Set the ticker\n",
    "ticker = \"AAPL\"\n",
    "\n",
    "# Set the data source\n",
    "data_source = 'google'\n",
    "\n",
    "# Import the stock prices\n",
    "stock_prices = DataReader(ticker, data_source, start, end)"
   ]
  },
  {
   "cell_type": "code",
   "execution_count": 82,
   "metadata": {},
   "outputs": [
    {
     "data": {
      "text/html": [
       "<div>\n",
       "<style>\n",
       "    .dataframe thead tr:only-child th {\n",
       "        text-align: right;\n",
       "    }\n",
       "\n",
       "    .dataframe thead th {\n",
       "        text-align: left;\n",
       "    }\n",
       "\n",
       "    .dataframe tbody tr th {\n",
       "        vertical-align: top;\n",
       "    }\n",
       "</style>\n",
       "<table border=\"1\" class=\"dataframe\">\n",
       "  <thead>\n",
       "    <tr style=\"text-align: right;\">\n",
       "      <th></th>\n",
       "      <th>Open</th>\n",
       "      <th>High</th>\n",
       "      <th>Low</th>\n",
       "      <th>Close</th>\n",
       "      <th>Volume</th>\n",
       "    </tr>\n",
       "    <tr>\n",
       "      <th>Date</th>\n",
       "      <th></th>\n",
       "      <th></th>\n",
       "      <th></th>\n",
       "      <th></th>\n",
       "      <th></th>\n",
       "    </tr>\n",
       "  </thead>\n",
       "  <tbody>\n",
       "    <tr>\n",
       "      <th>2017-11-06</th>\n",
       "      <td>172.36</td>\n",
       "      <td>174.99</td>\n",
       "      <td>171.72</td>\n",
       "      <td>174.25</td>\n",
       "      <td>35026306</td>\n",
       "    </tr>\n",
       "    <tr>\n",
       "      <th>2017-11-07</th>\n",
       "      <td>173.91</td>\n",
       "      <td>175.25</td>\n",
       "      <td>173.60</td>\n",
       "      <td>174.81</td>\n",
       "      <td>24361485</td>\n",
       "    </tr>\n",
       "    <tr>\n",
       "      <th>2017-11-08</th>\n",
       "      <td>174.66</td>\n",
       "      <td>176.24</td>\n",
       "      <td>174.33</td>\n",
       "      <td>176.24</td>\n",
       "      <td>24409527</td>\n",
       "    </tr>\n",
       "    <tr>\n",
       "      <th>2017-11-09</th>\n",
       "      <td>175.11</td>\n",
       "      <td>176.10</td>\n",
       "      <td>173.14</td>\n",
       "      <td>175.88</td>\n",
       "      <td>29482596</td>\n",
       "    </tr>\n",
       "    <tr>\n",
       "      <th>2017-11-10</th>\n",
       "      <td>175.11</td>\n",
       "      <td>175.38</td>\n",
       "      <td>174.27</td>\n",
       "      <td>174.67</td>\n",
       "      <td>25145500</td>\n",
       "    </tr>\n",
       "  </tbody>\n",
       "</table>\n",
       "</div>"
      ],
      "text/plain": [
       "              Open    High     Low   Close    Volume\n",
       "Date                                                \n",
       "2017-11-06  172.36  174.99  171.72  174.25  35026306\n",
       "2017-11-07  173.91  175.25  173.60  174.81  24361485\n",
       "2017-11-08  174.66  176.24  174.33  176.24  24409527\n",
       "2017-11-09  175.11  176.10  173.14  175.88  29482596\n",
       "2017-11-10  175.11  175.38  174.27  174.67  25145500"
      ]
     },
     "execution_count": 82,
     "metadata": {},
     "output_type": "execute_result"
    }
   ],
   "source": [
    "stock_prices.tail()"
   ]
  },
  {
   "cell_type": "code",
   "execution_count": 114,
   "metadata": {
    "collapsed": true
   },
   "outputs": [],
   "source": [
    "import matplotlib.pyplot as plt \n",
    "from pandas_datareader.data import DataReader\n",
    "from datetime import date"
   ]
  },
  {
   "cell_type": "code",
   "execution_count": 116,
   "metadata": {},
   "outputs": [
    {
     "data": {
      "image/png": "[encoded data removed]",
      "text/plain": [
       "<matplotlib.figure.Figure at 0x112d5f3c8>"
      ]
     },
     "metadata": {},
     "output_type": "display_data"
    }
   ],
   "source": [
    "start = date(2016,11,1)\n",
    "end = date(2016,11,3)\n",
    "\n",
    "data_sourse = 'google'\n",
    "ticker = 'AAPL'\n",
    "\n",
    "stock_prices = DataReader(ticker, data_sourse, start, end)\n",
    "stock_prices.Close.plot(title = ticker)\n",
    "plt.show()"
   ]
  },
  {
   "cell_type": "code",
   "execution_count": 105,
   "metadata": {
    "collapsed": true
   },
   "outputs": [],
   "source": [
    "data_sourse = 'google'\n",
    "ticker = 'FB'"
   ]
  },
  {
   "cell_type": "code",
   "execution_count": 106,
   "metadata": {
    "collapsed": true
   },
   "outputs": [],
   "source": [
    "stock_prices = DataReader(ticker, data_sourse, start, end)"
   ]
  },
  {
   "cell_type": "code",
   "execution_count": 107,
   "metadata": {},
   "outputs": [
    {
     "data": {
      "image/png": "[encoded data removed]",
      "text/plain": [
       "<matplotlib.figure.Figure at 0x10936fbe0>"
      ]
     },
     "metadata": {},
     "output_type": "display_data"
    }
   ],
   "source": [
    "stock_prices.Close.plot(title = ticker)\n",
    "plt.show()"
   ]
  },
  {
   "cell_type": "code",
   "execution_count": 134,
   "metadata": {},
   "outputs": [
    {
     "name": "stderr",
     "output_type": "stream",
     "text": [
      "/Users/egortarasenok/anaconda3/lib/python3.6/site-packages/ipykernel_launcher.py:12: DeprecationWarning: \n",
      ".ix is deprecated. Please use\n",
      ".loc for label based indexing or\n",
      ".iloc for positional indexing\n",
      "\n",
      "See the documentation here:\n",
      "http://pandas.pydata.org/pandas-docs/stable/indexing.html#ix-indexer-is-deprecated\n",
      "  if sys.path[0] == '':\n"
     ]
    },
    {
     "data": {
      "text/html": [
       "<div>\n",
       "<style>\n",
       "    .dataframe thead tr:only-child th {\n",
       "        text-align: right;\n",
       "    }\n",
       "\n",
       "    .dataframe thead th {\n",
       "        text-align: left;\n",
       "    }\n",
       "\n",
       "    .dataframe tbody tr th {\n",
       "        vertical-align: top;\n",
       "    }\n",
       "</style>\n",
       "<table border=\"1\" class=\"dataframe\">\n",
       "  <thead>\n",
       "    <tr style=\"text-align: right;\">\n",
       "      <th></th>\n",
       "      <th>AAPL</th>\n",
       "      <th>MSFT</th>\n",
       "      <th>SPY</th>\n",
       "    </tr>\n",
       "  </thead>\n",
       "  <tbody>\n",
       "    <tr>\n",
       "      <th>2017-01-02</th>\n",
       "      <td>NaN</td>\n",
       "      <td>NaN</td>\n",
       "      <td>NaN</td>\n",
       "    </tr>\n",
       "    <tr>\n",
       "      <th>2017-01-03</th>\n",
       "      <td>116.15</td>\n",
       "      <td>62.58</td>\n",
       "      <td>225.24</td>\n",
       "    </tr>\n",
       "    <tr>\n",
       "      <th>2017-01-04</th>\n",
       "      <td>116.02</td>\n",
       "      <td>62.30</td>\n",
       "      <td>226.58</td>\n",
       "    </tr>\n",
       "    <tr>\n",
       "      <th>2017-01-05</th>\n",
       "      <td>116.61</td>\n",
       "      <td>62.30</td>\n",
       "      <td>226.40</td>\n",
       "    </tr>\n",
       "    <tr>\n",
       "      <th>2017-01-06</th>\n",
       "      <td>117.91</td>\n",
       "      <td>62.84</td>\n",
       "      <td>227.21</td>\n",
       "    </tr>\n",
       "    <tr>\n",
       "      <th>2017-01-09</th>\n",
       "      <td>118.99</td>\n",
       "      <td>62.64</td>\n",
       "      <td>226.46</td>\n",
       "    </tr>\n",
       "    <tr>\n",
       "      <th>2017-01-10</th>\n",
       "      <td>119.11</td>\n",
       "      <td>62.62</td>\n",
       "      <td>226.46</td>\n",
       "    </tr>\n",
       "    <tr>\n",
       "      <th>2017-01-11</th>\n",
       "      <td>119.75</td>\n",
       "      <td>63.19</td>\n",
       "      <td>227.10</td>\n",
       "    </tr>\n",
       "    <tr>\n",
       "      <th>2017-01-12</th>\n",
       "      <td>119.25</td>\n",
       "      <td>62.61</td>\n",
       "      <td>226.53</td>\n",
       "    </tr>\n",
       "    <tr>\n",
       "      <th>2017-01-13</th>\n",
       "      <td>119.04</td>\n",
       "      <td>62.70</td>\n",
       "      <td>227.05</td>\n",
       "    </tr>\n",
       "  </tbody>\n",
       "</table>\n",
       "</div>"
      ],
      "text/plain": [
       "              AAPL   MSFT     SPY\n",
       "2017-01-02     NaN    NaN     NaN\n",
       "2017-01-03  116.15  62.58  225.24\n",
       "2017-01-04  116.02  62.30  226.58\n",
       "2017-01-05  116.61  62.30  226.40\n",
       "2017-01-06  117.91  62.84  227.21\n",
       "2017-01-09  118.99  62.64  226.46\n",
       "2017-01-10  119.11  62.62  226.46\n",
       "2017-01-11  119.75  63.19  227.10\n",
       "2017-01-12  119.25  62.61  226.53\n",
       "2017-01-13  119.04  62.70  227.05"
      ]
     },
     "execution_count": 134,
     "metadata": {},
     "output_type": "execute_result"
    }
   ],
   "source": [
    "from pandas_datareader import data \n",
    "import pandas as pd\n",
    "\n",
    "tickers = ['AAPL','MSFT', 'SPY']\n",
    "data_source = 'google'\n",
    "\n",
    "start_date = '2017-01-01'\n",
    "end_date = '2017-11-01'\n",
    "\n",
    "panel_data = data.DataReader(tickers, data_source, start_date, end_date)\n",
    "\n",
    "close = panel_data.ix['Close']\n",
    "all_weekdays = pd.date_range(start = start_date, end = end_date, freq = 'B')\n",
    "close = close.reindex(all_weekdays)\n",
    "close.head(10)"
   ]
  },
  {
   "cell_type": "code",
   "execution_count": 132,
   "metadata": {},
   "outputs": [
    {
     "data": {
      "text/plain": [
       "<class 'pandas.core.panel.Panel'>\n",
       "Dimensions: 5 (items) x 251 (major_axis) x 3 (minor_axis)\n",
       "Items axis: Open to Volume\n",
       "Major_axis axis: 2016-11-14 00:00:00 to 2017-11-10 00:00:00\n",
       "Minor_axis axis: AAPL to SPY"
      ]
     },
     "execution_count": 132,
     "metadata": {},
     "output_type": "execute_result"
    }
   ],
   "source": [
    "panel_data\n"
   ]
  },
  {
   "cell_type": "code",
   "execution_count": 129,
   "metadata": {},
   "outputs": [
    {
     "data": {
      "text/plain": [
       "pandas.core.panel.Panel"
      ]
     },
     "execution_count": 129,
     "metadata": {},
     "output_type": "execute_result"
    }
   ],
   "source": [
    "type(panel_data)"
   ]
  },
  {
   "cell_type": "code",
   "execution_count": 136,
   "metadata": {},
   "outputs": [
    {
     "name": "stdout",
     "output_type": "stream",
     "text": [
      "(251, 5)\n"
     ]
    },
    {
     "data": {
      "image/png": "[encoded data removed]",
      "text/plain": [
       "<matplotlib.figure.Figure at 0x107e2df28>"
      ]
     },
     "metadata": {},
     "output_type": "display_data"
    }
   ],
   "source": [
    "# Import matplotlib.pyplot\n",
    "import matplotlib.pyplot as plt\n",
    "\n",
    "# Set start and end dates\n",
    "#start = date(2016,1,1)\n",
    "#end = date(2016,12,31)\n",
    "\n",
    "start = '2017-06-01'\n",
    "end = '2017-11-01'\n",
    "\n",
    "# Set the ticker and data_source\n",
    "ticker = 'FB'\n",
    "data_source = 'google'\n",
    "\n",
    "# Import the data using DataReader\n",
    "stock_prices = DataReader(ticker, data_source, start, end)\n",
    "print(stock_prices.shape)\n",
    "\n",
    "# Plot Close\n",
    "stock_prices['Close'].plot(title=ticker)\n",
    "\n",
    "# Show the plot\n",
    "plt.show()"
   ]
  },
  {
   "cell_type": "code",
   "execution_count": 148,
   "metadata": {},
   "outputs": [
    {
     "name": "stdout",
     "output_type": "stream",
     "text": [
      "<class 'pandas.core.frame.DataFrame'>\n",
      "DatetimeIndex: 12945 entries, 1968-04-01 to 2017-11-10\n",
      "Data columns (total 1 columns):\n",
      "GOLDAMGBD228NLBM    12547 non-null float64\n",
      "dtypes: float64(1)\n",
      "memory usage: 202.3 KB\n"
     ]
    },
    {
     "data": {
      "image/png": "[encoded data removed]",
      "text/plain": [
       "<matplotlib.figure.Figure at 0x108e88438>"
      ]
     },
     "metadata": {},
     "output_type": "display_data"
    }
   ],
   "source": [
    "\n",
    "start = date(1968,1,1)\n",
    "series = 'GOLDAMGBD228NLBM'\n",
    "data_source = 'fred'\n",
    "\n",
    "gold_price = DataReader(series, data_source, start = start)\n",
    "gold_price.info()\n",
    "gold_price.plot(title = 'gold price')\n",
    "plt.show()"
   ]
  },
  {
   "cell_type": "code",
   "execution_count": 152,
   "metadata": {},
   "outputs": [
    {
     "data": {
      "image/png": "[encoded data removed]",
      "text/plain": [
       "<matplotlib.figure.Figure at 0x11302aa20>"
      ]
     },
     "metadata": {},
     "output_type": "display_data"
    }
   ],
   "source": [
    "start = date(1950,1,1)\n",
    "series = ['UNRATE','CIVPART']\n",
    "econ_data = DataReader(series,'fred',start)\n",
    "\n",
    "econ_data.columns = ['Unemployment Rate','Participation Rate']\n",
    "\n",
    "econ_data.plot(subplots=True, title='Labor Market')\n",
    "plt.show()\n"
   ]
  },
  {
   "cell_type": "markdown",
   "metadata": {},
   "source": [
    "Bonds and stocks are the most important investment alternatives. Now that you can import data from both the Federal Reserve and Google Finance, you can compare the performance of both asset classes. You'll be using a Total Return Index for each class, which accounts for returns due to both price increases and payments like interest or dividends.\n",
    "\n",
    "For bonds, you'll use the Bank of America Merrill Lynch US High Yield Total Return Index Value ('BAMLHYH0A0HYM2TRIV'). For stocks, you'll use the S&P 500 Index ('SP500'). Both are available for the past 10 years from the Federal Reserve's FRED service.\n",
    "\n",
    "In this exercise, you will download both series and compare their performance."
   ]
  },
  {
   "cell_type": "code",
   "execution_count": 154,
   "metadata": {},
   "outputs": [
    {
     "name": "stdout",
     "output_type": "stream",
     "text": [
      "<class 'pandas.core.frame.DataFrame'>\n",
      "DatetimeIndex: 2607 entries, 2008-01-01 to 2017-11-10\n",
      "Data columns (total 2 columns):\n",
      "BAMLHYH0A0HYM2TRIV    2575 non-null float64\n",
      "SP500                 2485 non-null float64\n",
      "dtypes: float64(2)\n",
      "memory usage: 61.1 KB\n"
     ]
    },
    {
     "data": {
      "image/png": "[encoded data removed]",
      "text/plain": [
       "<matplotlib.figure.Figure at 0x107f94390>"
      ]
     },
     "metadata": {},
     "output_type": "display_data"
    }
   ],
   "source": [
    "start = date(2008,1,1)\n",
    "series = ['BAMLHYH0A0HYM2TRIV', 'SP500']\n",
    "data = DataReader(series,'fred', start = start)\n",
    "data.info()\n",
    "data.plot(subplots= True, title = 'Performance Comparison')\n",
    "plt.show()"
   ]
  },
  {
   "cell_type": "code",
   "execution_count": 184,
   "metadata": {
    "collapsed": true
   },
   "outputs": [],
   "source": [
    "listings = pd.read_excel('/Users/egortarasenok/Desktop/listings.xls'\n",
    "                         ,na_values ='NAN'\n",
    "                         ,parse_dates=['Last Update']\n",
    "                         ,sheetname = 'nyse')\n",
    "\n",
    "listings['Exchange'] = 'nyse'"
   ]
  },
  {
   "cell_type": "code",
   "execution_count": 185,
   "metadata": {},
   "outputs": [
    {
     "name": "stdout",
     "output_type": "stream",
     "text": [
      "<class 'pandas.core.frame.DataFrame'>\n",
      "RangeIndex: 517 entries, 0 to 516\n",
      "Data columns (total 9 columns):\n",
      "Stock Symbol             517 non-null object\n",
      "Company Name             517 non-null object\n",
      "Last Sale                510 non-null float64\n",
      "Market Capitalization    510 non-null float64\n",
      "IPO Year                 264 non-null float64\n",
      "Sector                   459 non-null object\n",
      "Industry                 459 non-null object\n",
      "Last Update              510 non-null datetime64[ns]\n",
      "Exchange                 517 non-null object\n",
      "dtypes: datetime64[ns](1), float64(3), object(5)\n",
      "memory usage: 36.4+ KB\n"
     ]
    }
   ],
   "source": [
    "listings.info()"
   ]
  },
  {
   "cell_type": "code",
   "execution_count": 186,
   "metadata": {},
   "outputs": [
    {
     "data": {
      "text/plain": [
       "array(['Technology', nan, 'Health Care', 'Consumer Services',\n",
       "       'Miscellaneous', 'Finance', 'Public Utilities', 'Basic Industries',\n",
       "       'Capital Goods', 'Consumer Non-Durables', 'Transportation',\n",
       "       'Consumer Durables', 'Energy'], dtype=object)"
      ]
     },
     "execution_count": 186,
     "metadata": {},
     "output_type": "execute_result"
    }
   ],
   "source": [
    "listings.Sector.unique()"
   ]
  },
  {
   "cell_type": "code",
   "execution_count": 187,
   "metadata": {},
   "outputs": [
    {
     "data": {
      "text/html": [
       "<div>\n",
       "<style>\n",
       "    .dataframe thead tr:only-child th {\n",
       "        text-align: right;\n",
       "    }\n",
       "\n",
       "    .dataframe thead th {\n",
       "        text-align: left;\n",
       "    }\n",
       "\n",
       "    .dataframe tbody tr th {\n",
       "        vertical-align: top;\n",
       "    }\n",
       "</style>\n",
       "<table border=\"1\" class=\"dataframe\">\n",
       "  <thead>\n",
       "    <tr style=\"text-align: right;\">\n",
       "      <th></th>\n",
       "      <th>Stock Symbol</th>\n",
       "      <th>Company Name</th>\n",
       "      <th>Last Sale</th>\n",
       "      <th>Market Capitalization</th>\n",
       "      <th>IPO Year</th>\n",
       "      <th>Sector</th>\n",
       "      <th>Industry</th>\n",
       "      <th>Last Update</th>\n",
       "      <th>Exchange</th>\n",
       "    </tr>\n",
       "  </thead>\n",
       "  <tbody>\n",
       "    <tr>\n",
       "      <th>0</th>\n",
       "      <td>XPER</td>\n",
       "      <td>Xperi Corporation</td>\n",
       "      <td>31.8</td>\n",
       "      <td>1.565145e+09</td>\n",
       "      <td>NaN</td>\n",
       "      <td>Technology</td>\n",
       "      <td>Semiconductors</td>\n",
       "      <td>2017-04-26</td>\n",
       "      <td>nyse</td>\n",
       "    </tr>\n",
       "    <tr>\n",
       "      <th>1</th>\n",
       "      <td>BL</td>\n",
       "      <td>BlackLine, Inc.</td>\n",
       "      <td>30.4</td>\n",
       "      <td>1.559014e+09</td>\n",
       "      <td>2016.0</td>\n",
       "      <td>NaN</td>\n",
       "      <td>NaN</td>\n",
       "      <td>2017-04-24</td>\n",
       "      <td>nyse</td>\n",
       "    </tr>\n",
       "  </tbody>\n",
       "</table>\n",
       "</div>"
      ],
      "text/plain": [
       "  Stock Symbol       Company Name  Last Sale  Market Capitalization  IPO Year  \\\n",
       "0         XPER  Xperi Corporation       31.8           1.565145e+09       NaN   \n",
       "1           BL    BlackLine, Inc.       30.4           1.559014e+09    2016.0   \n",
       "\n",
       "       Sector        Industry Last Update Exchange  \n",
       "0  Technology  Semiconductors  2017-04-26     nyse  \n",
       "1         NaN             NaN  2017-04-24     nyse  "
      ]
     },
     "execution_count": 187,
     "metadata": {},
     "output_type": "execute_result"
    }
   ],
   "source": [
    "listings[:2]"
   ]
  },
  {
   "cell_type": "code",
   "execution_count": 188,
   "metadata": {
    "collapsed": true
   },
   "outputs": [],
   "source": [
    "consumer_service = listings[listings.Sector =='Consumer Services']"
   ]
  },
  {
   "cell_type": "code",
   "execution_count": 189,
   "metadata": {
    "collapsed": true
   },
   "outputs": [],
   "source": [
    "consumer_services2 = consumer_service.sort_values('Market Capitalization',ascending=False)"
   ]
  },
  {
   "cell_type": "code",
   "execution_count": 190,
   "metadata": {},
   "outputs": [
    {
     "name": "stdout",
     "output_type": "stream",
     "text": [
      "                Company Name Exchange  Market Capitalization\n",
      "4         The RMR Group Inc.     nyse           1.555676e+09\n",
      "5   BMC Stock Holdings, Inc.     nyse           1.551731e+09\n",
      "13     Golar LNG Partners LP     nyse           1.517923e+09\n",
      "19            Exponent, Inc.     nyse           1.484628e+09\n",
      "28    Scholastic Corporation     nyse           1.458869e+09\n"
     ]
    }
   ],
   "source": [
    "print(consumer_services2[['Company Name', 'Exchange', 'Market Capitalization']].head())"
   ]
  },
  {
   "cell_type": "markdown",
   "metadata": {},
   "source": [
    "Instead of indexing your data with a conditional expression, you can also filter by certain values with .loc[row_selector, column_selector]. Additionally, you can use .set_index() to set a particular column with unique values as the index of a DataFrame, and .idxmax() to return the index of the maximum value.\n",
    "\n",
    "In this exercise, you will apply these methods of selecting companies to find the most valuable consumer services company on any of the three exchanges, and use its ticker to plot its stock price trend."
   ]
  },
  {
   "cell_type": "code",
   "execution_count": 191,
   "metadata": {
    "collapsed": true
   },
   "outputs": [],
   "source": [
    "listings = listing.set_index('Stock Symbol')"
   ]
  },
  {
   "cell_type": "code",
   "execution_count": 196,
   "metadata": {},
   "outputs": [
    {
     "name": "stdout",
     "output_type": "stream",
     "text": [
      "Technology XPER\n",
      "Health Care SUPN\n",
      "Consumer Services RMR\n",
      "Miscellaneous EXLS\n",
      "Finance NBTB\n",
      "Public Utilities OTTR\n",
      "Basic Industries IOSP\n",
      "Capital Goods ORBK\n",
      "Consumer Non-Durables CORE\n",
      "Transportation FWRD\n",
      "Consumer Durables RUSHA\n",
      "Energy EXXI\n"
     ]
    }
   ],
   "source": [
    "for sect in listings.Sector.unique():\n",
    "    try:\n",
    "        ticker = listings.loc[listings.Sector == sect,'Market Capitalization'].idxmax()\n",
    "        print(sect,ticker)\n",
    "    except Exception:\n",
    "        pass\n",
    "\n",
    "#ticker = listings.loc[listings.Sector == 'Consumer Services','Market Capitalization'].idxmax()"
   ]
  },
  {
   "cell_type": "code",
   "execution_count": 197,
   "metadata": {
    "collapsed": true
   },
   "outputs": [],
   "source": [
    "ticker = listings.loc[listings.Sector == 'Consumer Services','Market Capitalization'].idxmax()"
   ]
  },
  {
   "cell_type": "code",
   "execution_count": 202,
   "metadata": {
    "collapsed": true
   },
   "outputs": [],
   "source": [
    "start = date(2017,1,1)\n",
    "data = DataReader(ticker,'google',start = start)"
   ]
  },
  {
   "cell_type": "code",
   "execution_count": 203,
   "metadata": {},
   "outputs": [
    {
     "data": {
      "text/html": [
       "<div>\n",
       "<style>\n",
       "    .dataframe thead tr:only-child th {\n",
       "        text-align: right;\n",
       "    }\n",
       "\n",
       "    .dataframe thead th {\n",
       "        text-align: left;\n",
       "    }\n",
       "\n",
       "    .dataframe tbody tr th {\n",
       "        vertical-align: top;\n",
       "    }\n",
       "</style>\n",
       "<table border=\"1\" class=\"dataframe\">\n",
       "  <thead>\n",
       "    <tr style=\"text-align: right;\">\n",
       "      <th></th>\n",
       "      <th>Open</th>\n",
       "      <th>High</th>\n",
       "      <th>Low</th>\n",
       "      <th>Close</th>\n",
       "      <th>Volume</th>\n",
       "    </tr>\n",
       "    <tr>\n",
       "      <th>Date</th>\n",
       "      <th></th>\n",
       "      <th></th>\n",
       "      <th></th>\n",
       "      <th></th>\n",
       "      <th></th>\n",
       "    </tr>\n",
       "  </thead>\n",
       "  <tbody>\n",
       "    <tr>\n",
       "      <th>2016-11-14</th>\n",
       "      <td>38.2</td>\n",
       "      <td>38.3</td>\n",
       "      <td>37.75</td>\n",
       "      <td>38.05</td>\n",
       "      <td>49371</td>\n",
       "    </tr>\n",
       "    <tr>\n",
       "      <th>2016-11-15</th>\n",
       "      <td>37.9</td>\n",
       "      <td>38.0</td>\n",
       "      <td>37.51</td>\n",
       "      <td>37.75</td>\n",
       "      <td>19549</td>\n",
       "    </tr>\n",
       "  </tbody>\n",
       "</table>\n",
       "</div>"
      ],
      "text/plain": [
       "            Open  High    Low  Close  Volume\n",
       "Date                                        \n",
       "2016-11-14  38.2  38.3  37.75  38.05   49371\n",
       "2016-11-15  37.9  38.0  37.51  37.75   19549"
      ]
     },
     "execution_count": 203,
     "metadata": {},
     "output_type": "execute_result"
    }
   ],
   "source": [
    "data[:2]"
   ]
  },
  {
   "cell_type": "code",
   "execution_count": 204,
   "metadata": {},
   "outputs": [
    {
     "data": {
      "image/png": "[encoded data removed]",
      "text/plain": [
       "<matplotlib.figure.Figure at 0x1088a60f0>"
      ]
     },
     "metadata": {},
     "output_type": "display_data"
    }
   ],
   "source": [
    "data[['Close','Volume']].plot(secondary_y = 'Volume',title = ticker)\n",
    "plt.show()"
   ]
  },
  {
   "cell_type": "markdown",
   "metadata": {},
   "source": [
    "You can filter your data by even more conditions by enclosing each condition in parentheses and using logical operators like & and |.\n",
    "\n",
    "Here, you will find out which company is the largest consumer services company that went public after Amazon did in 1997. The data is contained in the column 'IPO Year'; an Initial Public Offering (IPO) is a financial term that describes the first time that the stock of a private company is offered to the public."
   ]
  },
  {
   "cell_type": "code",
   "execution_count": 208,
   "metadata": {
    "collapsed": true
   },
   "outputs": [],
   "source": [
    "ticker = listings.loc[(listings.Sector == 'Consumer Services')&(listings['IPO Year'] > 1998),'Market Capitalization'].idxmax()"
   ]
  },
  {
   "cell_type": "code",
   "execution_count": 209,
   "metadata": {},
   "outputs": [
    {
     "data": {
      "text/plain": [
       "'BMCH'"
      ]
     },
     "execution_count": 209,
     "metadata": {},
     "output_type": "execute_result"
    }
   ],
   "source": [
    "ticker"
   ]
  },
  {
   "cell_type": "code",
   "execution_count": 210,
   "metadata": {
    "collapsed": true
   },
   "outputs": [],
   "source": [
    "start = date(2017,1,1)"
   ]
  },
  {
   "cell_type": "code",
   "execution_count": 211,
   "metadata": {
    "collapsed": true
   },
   "outputs": [],
   "source": [
    "data = DataReader(ticker,'google',start = start)"
   ]
  },
  {
   "cell_type": "code",
   "execution_count": 212,
   "metadata": {},
   "outputs": [
    {
     "data": {
      "image/png": "[encoded data removed]",
      "text/plain": [
       "<matplotlib.figure.Figure at 0x107f4d668>"
      ]
     },
     "metadata": {},
     "output_type": "display_data"
    }
   ],
   "source": [
    "data[['Close','Volume']].plot(secondary_y = 'Volume', title = ticker)\n",
    "plt.show()"
   ]
  },
  {
   "cell_type": "code",
   "execution_count": 214,
   "metadata": {},
   "outputs": [
    {
     "name": "stdout",
     "output_type": "stream",
     "text": [
      "<class 'pandas.core.frame.DataFrame'>\n",
      "DatetimeIndex: 251 entries, 2016-11-14 to 2017-11-10\n",
      "Data columns (total 3 columns):\n",
      "BNCN    147 non-null float64\n",
      "FRME    251 non-null float64\n",
      "NBTB    251 non-null float64\n",
      "dtypes: float64(3)\n",
      "memory usage: 7.8 KB\n"
     ]
    }
   ],
   "source": [
    "# Get ticker of 3 largest finance companies\n",
    "top_3_companies = listings.loc[listings.Sector == 'Finance', 'Market Capitalization'].nlargest(n=3)\n",
    "\n",
    "# Convert index to list\n",
    "top_3_tickers = top_3_companies.index.tolist()\n",
    "\n",
    "# Set start date\n",
    "start = date(2012, 1, 1)\n",
    "\n",
    "# Import stock data\n",
    "data = DataReader(top_3_tickers, 'google', start)\n",
    "data2 = data.to_frame()\n",
    "\n",
    "# Unstack and inspect result\n",
    "data2['Close'].unstack().info()"
   ]
  },
  {
   "cell_type": "code",
   "execution_count": 216,
   "metadata": {},
   "outputs": [
    {
     "name": "stdout",
     "output_type": "stream",
     "text": [
      "[ 0.1  0.2  0.3  0.4  0.5  0.6  0.7  0.8  0.9]\n"
     ]
    },
    {
     "ename": "NameError",
     "evalue": "name 'income' is not defined",
     "output_type": "error",
     "traceback": [
      "\u001b[0;31m---------------------------------------------------------------------------\u001b[0m",
      "\u001b[0;31mNameError\u001b[0m                                 Traceback (most recent call last)",
      "\u001b[0;32m<ipython-input-216-6584a3728a00>\u001b[0m in \u001b[0;36m<module>\u001b[0;34m()\u001b[0m\n\u001b[1;32m      8\u001b[0m \u001b[0;34m\u001b[0m\u001b[0m\n\u001b[1;32m      9\u001b[0m \u001b[0;31m# Calculate deciles for 'Income per Capita'\u001b[0m\u001b[0;34m\u001b[0m\u001b[0;34m\u001b[0m\u001b[0m\n\u001b[0;32m---> 10\u001b[0;31m \u001b[0mdeciles\u001b[0m \u001b[0;34m=\u001b[0m \u001b[0mincome\u001b[0m\u001b[0;34m[\u001b[0m\u001b[0;34m'Income per Capita'\u001b[0m\u001b[0;34m]\u001b[0m\u001b[0;34m.\u001b[0m\u001b[0mquantile\u001b[0m\u001b[0;34m(\u001b[0m\u001b[0mquantiles\u001b[0m\u001b[0;34m)\u001b[0m\u001b[0;34m\u001b[0m\u001b[0m\n\u001b[0m\u001b[1;32m     11\u001b[0m \u001b[0;34m\u001b[0m\u001b[0m\n\u001b[1;32m     12\u001b[0m \u001b[0;31m# Print them\u001b[0m\u001b[0;34m\u001b[0m\u001b[0;34m\u001b[0m\u001b[0m\n",
      "\u001b[0;31mNameError\u001b[0m: name 'income' is not defined"
     ]
    }
   ],
   "source": [
    "import numpy as np\n",
    "\n",
    "# Generate range of deciles\n",
    "quantiles = np.arange(.1, 1, .1)\n",
    "\n",
    "# Print them\n",
    "print(quantiles)\n",
    "\n",
    "# Calculate deciles for 'Income per Capita'\n",
    "deciles = income['Income per Capita'].quantile(quantiles)\n",
    "\n",
    "# Print them\n",
    "print(deciles)\n",
    "\n",
    "# Plot deciles as a bar chart\n",
    "deciles.plot(kind=\"bar\", title='Global Income per Capita - Deciles')\n",
    "\n",
    "# Make sure to use the tight layout!\n",
    "plt.tight_layout()\n",
    "\n",
    "# Show the plot\n",
    "plt.show()"
   ]
  },
  {
   "cell_type": "code",
   "execution_count": 217,
   "metadata": {},
   "outputs": [
    {
     "data": {
      "text/plain": [
       "array([ 0.1,  0.2,  0.3,  0.4,  0.5,  0.6,  0.7,  0.8,  0.9])"
      ]
     },
     "execution_count": 217,
     "metadata": {},
     "output_type": "execute_result"
    }
   ],
   "source": [
    "quantiles"
   ]
  },
  {
   "cell_type": "markdown",
   "metadata": {},
   "source": [
    "seaborn is a Python visualization library for statistical data visualization based on matplotlib.\n",
    "\n",
    "By default, the distplot() function in the seaborn package creates a histogram, where data is grouped into ranges and and plotted as bars, and fits a kernel density estimation (KDE), or smoothed histogram. You can also use distplot() to create another kind of graph called a rugplot, which adds markers at the bottom of the chart to indicate the density of observations along the x axis.\n",
    "\n",
    "seaborn.distplot(a, bins=None, hist=True, kde=True, rug=False, ...)\n",
    "In previous exercises, you created a quantile plot which provided a fairly granular sense of the level of income per capita at different points of the distribution. Here, you will use distplot() to get the full picture!"
   ]
  },
  {
   "cell_type": "code",
   "execution_count": 218,
   "metadata": {
    "collapsed": true
   },
   "outputs": [],
   "source": [
    "# Import seaborn\n",
    "import seaborn as sns\n",
    "\n",
    "# Import matplotlib\n",
    "import matplotlib.pyplot as plt"
   ]
  },
  {
   "cell_type": "code",
   "execution_count": 219,
   "metadata": {
    "collapsed": true
   },
   "outputs": [],
   "source": [
    "income = pd.read_csv('/Users/egortarasenok/Desktop/nasdaq-listings.csv', na_values = 'NAN', parse_dates = ['Last Update'])\n",
    "\n"
   ]
  },
  {
   "cell_type": "code",
   "execution_count": 220,
   "metadata": {},
   "outputs": [
    {
     "data": {
      "text/html": [
       "<div>\n",
       "<style>\n",
       "    .dataframe thead tr:only-child th {\n",
       "        text-align: right;\n",
       "    }\n",
       "\n",
       "    .dataframe thead th {\n",
       "        text-align: left;\n",
       "    }\n",
       "\n",
       "    .dataframe tbody tr th {\n",
       "        vertical-align: top;\n",
       "    }\n",
       "</style>\n",
       "<table border=\"1\" class=\"dataframe\">\n",
       "  <thead>\n",
       "    <tr style=\"text-align: right;\">\n",
       "      <th></th>\n",
       "      <th>Stock Symbol</th>\n",
       "      <th>Company Name</th>\n",
       "      <th>Last Sale</th>\n",
       "      <th>Market Capitalization</th>\n",
       "      <th>IPO Year</th>\n",
       "      <th>Sector</th>\n",
       "      <th>Industry</th>\n",
       "      <th>Last Update</th>\n",
       "    </tr>\n",
       "  </thead>\n",
       "  <tbody>\n",
       "    <tr>\n",
       "      <th>0</th>\n",
       "      <td>AAPL</td>\n",
       "      <td>Apple Inc.</td>\n",
       "      <td>141.05</td>\n",
       "      <td>7.400000e+11</td>\n",
       "      <td>1980.0</td>\n",
       "      <td>Technology</td>\n",
       "      <td>Computer Manufacturing</td>\n",
       "      <td>2017-04-26</td>\n",
       "    </tr>\n",
       "    <tr>\n",
       "      <th>1</th>\n",
       "      <td>GOOGL</td>\n",
       "      <td>Alphabet Inc.</td>\n",
       "      <td>840.18</td>\n",
       "      <td>5.810000e+11</td>\n",
       "      <td>NaN</td>\n",
       "      <td>Technology</td>\n",
       "      <td>Computer Software: Programming, Data Processing</td>\n",
       "      <td>2017-04-24</td>\n",
       "    </tr>\n",
       "  </tbody>\n",
       "</table>\n",
       "</div>"
      ],
      "text/plain": [
       "  Stock Symbol   Company Name  Last Sale  Market Capitalization  IPO Year  \\\n",
       "0         AAPL     Apple Inc.     141.05           7.400000e+11    1980.0   \n",
       "1        GOOGL  Alphabet Inc.     840.18           5.810000e+11       NaN   \n",
       "\n",
       "       Sector                                         Industry Last Update  \n",
       "0  Technology                           Computer Manufacturing  2017-04-26  \n",
       "1  Technology  Computer Software: Programming, Data Processing  2017-04-24  "
      ]
     },
     "execution_count": 220,
     "metadata": {},
     "output_type": "execute_result"
    }
   ],
   "source": [
    "income[:2]"
   ]
  },
  {
   "cell_type": "code",
   "execution_count": 225,
   "metadata": {
    "collapsed": true
   },
   "outputs": [],
   "source": [
    "income.sort_values(by = 'Market Capitalization', inplace = True )"
   ]
  },
  {
   "cell_type": "code",
   "execution_count": 226,
   "metadata": {},
   "outputs": [
    {
     "name": "stdout",
     "output_type": "stream",
     "text": [
      "count    1.115000e+03\n",
      "mean     8.789325e+09\n",
      "std      4.236079e+10\n",
      "min      5.341381e+08\n",
      "25%      8.863446e+08\n",
      "50%      1.708098e+09\n",
      "75%      4.230344e+09\n",
      "max      7.400000e+11\n",
      "Name: Market Capitalization, dtype: float64\n"
     ]
    }
   ],
   "source": [
    "# Print the summary statistics for income\n",
    "print(income['Market Capitalization'].describe())"
   ]
  },
  {
   "cell_type": "code",
   "execution_count": 230,
   "metadata": {
    "collapsed": true
   },
   "outputs": [],
   "source": [
    "income.dropna(inplace = True)"
   ]
  },
  {
   "cell_type": "code",
   "execution_count": 231,
   "metadata": {},
   "outputs": [
    {
     "data": {
      "image/png": "[encoded data removed]",
      "text/plain": [
       "<matplotlib.figure.Figure at 0x108d87668>"
      ]
     },
     "metadata": {},
     "output_type": "display_data"
    }
   ],
   "source": [
    "# Plot a basic histogram of income per capita\n",
    "\n",
    "sns.distplot(income['IPO Year'])\n",
    "\n",
    "# Show the plot\n",
    "plt.show()\n"
   ]
  },
  {
   "cell_type": "code",
   "execution_count": 243,
   "metadata": {},
   "outputs": [
    {
     "data": {
      "image/png": "[encoded data removed]",
      "text/plain": [
       "<matplotlib.figure.Figure at 0x1a169b9c18>"
      ]
     },
     "metadata": {},
     "output_type": "display_data"
    }
   ],
   "source": [
    "# Plot a rugplot\n",
    "sns.distplot(income['IPO Year'], bins = 45, kde = False)\n",
    "\n",
    "# Show the plot\n",
    "plt.show()"
   ]
  },
  {
   "cell_type": "code",
   "execution_count": 250,
   "metadata": {},
   "outputs": [
    {
     "data": {
      "image/png": "[encoded data removed]",
      "text/plain": [
       "<matplotlib.figure.Figure at 0x113312f98>"
      ]
     },
     "metadata": {},
     "output_type": "display_data"
    }
   ],
   "source": [
    "sns.distplot(income['Last Sale'], bins = 1000, kde = False )\n",
    "plt.show()"
   ]
  },
  {
   "cell_type": "code",
   "execution_count": 261,
   "metadata": {},
   "outputs": [
    {
     "name": "stdout",
     "output_type": "stream",
     "text": [
      "         Last Sale  Market Capitalization     IPO Year\n",
      "count  1115.000000           1.115000e+03   593.000000\n",
      "mean     52.506681           8.789325e+09  2003.151771\n",
      "std      83.763971           4.236079e+10    10.134763\n",
      "min       1.940000           5.341381e+08  1972.000000\n",
      "25%      20.330000           8.863446e+08  1996.000000\n",
      "50%      35.250000           1.708098e+09  2005.000000\n",
      "75%      58.650000           4.230344e+09  2013.000000\n",
      "max    1738.770000           7.400000e+11  2017.000000\n"
     ]
    },
    {
     "name": "stderr",
     "output_type": "stream",
     "text": [
      "/Users/egortarasenok/anaconda3/lib/python3.6/site-packages/statsmodels/nonparametric/kde.py:454: RuntimeWarning: invalid value encountered in greater\n",
      "  X = X[np.logical_and(X>clip[0], X<clip[1])] # won't work for two columns.\n",
      "/Users/egortarasenok/anaconda3/lib/python3.6/site-packages/statsmodels/nonparametric/kde.py:454: RuntimeWarning: invalid value encountered in less\n",
      "  X = X[np.logical_and(X>clip[0], X<clip[1])] # won't work for two columns.\n"
     ]
    },
    {
     "data": {
      "image/png": "[encoded data removed]",
      "text/plain": [
       "<matplotlib.figure.Figure at 0x1a15297128>"
      ]
     },
     "metadata": {},
     "output_type": "display_data"
    }
   ],
   "source": [
    "income = pd.read_csv('/Users/egortarasenok/Desktop/nasdaq-listings.csv', na_values = 'NAN', parse_dates = ['Last Update'])\n",
    "\n",
    "# Inspect the summary statistics for the growth rates\n",
    "print(income.describe())\n",
    "\n",
    "# Iterate over the three columns\n",
    "for column in income.columns:\n",
    "    try:\n",
    "        sns.distplot(income[column], hist=False, label=column)\n",
    "    except Exception:\n",
    "        pass\n",
    "# Show the plot\n",
    "plt.show()"
   ]
  },
  {
   "cell_type": "markdown",
   "metadata": {},
   "source": [
    "Sometimes it is necessary to manipulate your data in order to create a better visualization. Two methods that can take care of missing values are .dropna() and .fillna(). You can also remove outliers by filtering entries that are over or under a certain percentile by applying a condition using .quantile() to a particular column.\n",
    "\n",
    "You also saw in the video how to emphasize a particular value in a plot by adding a vertical line at position x across the axes:\n",
    "\n",
    "Axes.axvline(x=0, color=None, ...)\n",
    "In this exercise, you will take a final look at global income distribution, and then remove outliers above the 95th percentile, plot the distribution, and highlight both the mean and median values."
   ]
  },
  {
   "cell_type": "code",
   "execution_count": null,
   "metadata": {
    "collapsed": true
   },
   "outputs": [],
   "source": [
    "# Create inc_per_capita\n",
    "inc_per_capita = income['Income per Capita']\n",
    "\n",
    "# Filter out incomes above the 95th percentile\n",
    "inc_per_capita = inc_per_capita[inc_per_capita < inc_per_capita.quantile(.95)]\n",
    "\n",
    "# Plot histogram and assign to ax\n",
    "ax = sns.distplot(inc_per_capita)\n",
    "\n",
    "# Highlight mean\n",
    "ax.axvline(inc_per_capita.mean(), color='b')\n",
    "\n",
    "# Highlight median\n",
    "ax.axvline(inc_per_capita.median(), color='g')\n",
    "\n",
    "# Show the plot\n",
    "plt.show()"
   ]
  },
  {
   "cell_type": "code",
   "execution_count": 272,
   "metadata": {},
   "outputs": [
    {
     "data": {
      "image/png": "[encoded data removed]",
      "text/plain": [
       "<matplotlib.figure.Figure at 0x1a16b0b390>"
      ]
     },
     "metadata": {},
     "output_type": "display_data"
    }
   ],
   "source": [
    "\n",
    "last_s = sns.distplot(income['Last Sale'][income['Last Sale'] < income['Last Sale'].quantile(.99)], bins = 100)\n",
    "last_s.axvline((income['Last Sale'][income['Last Sale'] < income['Last Sale'].quantile(.95)]).mean(), color = 'b')\n",
    "last_s.axvline((income['Last Sale'][income['Last Sale'] < income['Last Sale'].quantile(.95)]).median(), color = 'g')\n",
    "\n",
    "plt.show()"
   ]
  },
  {
   "cell_type": "code",
   "execution_count": null,
   "metadata": {
    "collapsed": true
   },
   "outputs": [],
   "source": [
    "# Create the list exchanges\n",
    "exchanges = ['amex', 'nasdaq', 'nyse']\n",
    "\n",
    "# Iterate over exchanges then plot and show result\n",
    "for exchange in exchanges:\n",
    "    sectors = listings[exchange].Sector.value_counts()\n",
    "    # Sort in descending order and plot\n",
    "    sectors.sort_values(ascending=True).plot(kind='bar')\n",
    "    # Show the plot\n",
    "    plt.show()"
   ]
  },
  {
   "cell_type": "code",
   "execution_count": 8,
   "metadata": {},
   "outputs": [
    {
     "data": {
      "text/html": [
       "<div>\n",
       "<style>\n",
       "    .dataframe thead tr:only-child th {\n",
       "        text-align: right;\n",
       "    }\n",
       "\n",
       "    .dataframe thead th {\n",
       "        text-align: left;\n",
       "    }\n",
       "\n",
       "    .dataframe tbody tr th {\n",
       "        vertical-align: top;\n",
       "    }\n",
       "</style>\n",
       "<table border=\"1\" class=\"dataframe\">\n",
       "  <thead>\n",
       "    <tr style=\"text-align: right;\">\n",
       "      <th></th>\n",
       "      <th>Stock Symbol</th>\n",
       "      <th>Company Name</th>\n",
       "      <th>Last Sale</th>\n",
       "      <th>Market Capitalization</th>\n",
       "      <th>IPO Year</th>\n",
       "      <th>Sector</th>\n",
       "      <th>Industry</th>\n",
       "      <th>Last Update</th>\n",
       "      <th>Market_Cap_m</th>\n",
       "    </tr>\n",
       "  </thead>\n",
       "  <tbody>\n",
       "    <tr>\n",
       "      <th>0</th>\n",
       "      <td>AAPL</td>\n",
       "      <td>Apple Inc.</td>\n",
       "      <td>141.05</td>\n",
       "      <td>7.400000e+11</td>\n",
       "      <td>1980.0</td>\n",
       "      <td>Technology</td>\n",
       "      <td>Computer Manufacturing</td>\n",
       "      <td>2017-04-26</td>\n",
       "      <td>740000.0</td>\n",
       "    </tr>\n",
       "    <tr>\n",
       "      <th>1</th>\n",
       "      <td>GOOGL</td>\n",
       "      <td>Alphabet Inc.</td>\n",
       "      <td>840.18</td>\n",
       "      <td>5.810000e+11</td>\n",
       "      <td>NaN</td>\n",
       "      <td>Technology</td>\n",
       "      <td>Computer Software: Programming, Data Processing</td>\n",
       "      <td>2017-04-24</td>\n",
       "      <td>581000.0</td>\n",
       "    </tr>\n",
       "  </tbody>\n",
       "</table>\n",
       "</div>"
      ],
      "text/plain": [
       "  Stock Symbol   Company Name  Last Sale  Market Capitalization  IPO Year  \\\n",
       "0         AAPL     Apple Inc.     141.05           7.400000e+11    1980.0   \n",
       "1        GOOGL  Alphabet Inc.     840.18           5.810000e+11       NaN   \n",
       "\n",
       "       Sector                                         Industry Last Update  \\\n",
       "0  Technology                           Computer Manufacturing  2017-04-26   \n",
       "1  Technology  Computer Software: Programming, Data Processing  2017-04-24   \n",
       "\n",
       "   Market_Cap_m  \n",
       "0      740000.0  \n",
       "1      581000.0  "
      ]
     },
     "execution_count": 8,
     "metadata": {},
     "output_type": "execute_result"
    }
   ],
   "source": [
    "nasdaq[:2]"
   ]
  },
  {
   "cell_type": "code",
   "execution_count": 7,
   "metadata": {
    "collapsed": true
   },
   "outputs": [],
   "source": [
    "nasdaq['Market_Cap_m'] = nasdaq['Market Capitalization'].div(1e6)"
   ]
  },
  {
   "cell_type": "code",
   "execution_count": 9,
   "metadata": {
    "collapsed": true
   },
   "outputs": [],
   "source": [
    "nasdaq = nasdaq.drop('Market Capitalization', axis=1)"
   ]
  },
  {
   "cell_type": "code",
   "execution_count": 14,
   "metadata": {
    "collapsed": true
   },
   "outputs": [],
   "source": [
    "mcap_by_sector = nasdaq.groupby('Sector')"
   ]
  },
  {
   "cell_type": "code",
   "execution_count": 15,
   "metadata": {
    "collapsed": true
   },
   "outputs": [],
   "source": [
    "# Calculate median\n",
    "median_mcap_by_sector = mcap_by_sector.Market_Cap_m.median()"
   ]
  },
  {
   "cell_type": "code",
   "execution_count": 21,
   "metadata": {
    "collapsed": true
   },
   "outputs": [],
   "source": [
    "median_mcap_by_sector.sort_values(inplace = True)"
   ]
  },
  {
   "cell_type": "code",
   "execution_count": 22,
   "metadata": {},
   "outputs": [
    {
     "data": {
      "image/png": "[encoded data removed]",
      "text/plain": [
       "<matplotlib.figure.Figure at 0x1a1a49a908>"
      ]
     },
     "metadata": {},
     "output_type": "display_data"
    }
   ],
   "source": [
    "import matplotlib.pyplot as plt\n",
    "import seaborn as sns\n",
    "\n",
    "# Plot and show as horizontal bar chart\n",
    "median_mcap_by_sector.plot(kind='barh', title='Nasdaq - Median Market Capitalization')\n",
    "\n",
    "# Add the label\n",
    "plt.xlabel('USD mn')\n",
    "\n",
    "# Show the plot\n",
    "plt.show()"
   ]
  },
  {
   "cell_type": "code",
   "execution_count": 25,
   "metadata": {},
   "outputs": [
    {
     "name": "stdout",
     "output_type": "stream",
     "text": [
      "<class 'pandas.core.frame.DataFrame'>\n",
      "Int64Index: 568 entries, 2 to 1114\n",
      "Data columns (total 8 columns):\n",
      "Stock Symbol    568 non-null object\n",
      "Company Name    568 non-null object\n",
      "Last Sale       568 non-null float64\n",
      "IPO Year        568 non-null int64\n",
      "Sector          551 non-null object\n",
      "Industry        551 non-null object\n",
      "Last Update     568 non-null datetime64[ns]\n",
      "Market_Cap_m    568 non-null float64\n",
      "dtypes: datetime64[ns](1), float64(2), int64(1), object(4)\n",
      "memory usage: 39.9+ KB\n",
      "  Stock Symbol           Company Name  Last Sale  IPO Year             Sector  \\\n",
      "2         GOOG          Alphabet Inc.     823.56      2004         Technology   \n",
      "3         MSFT  Microsoft Corporation      64.95      1986         Technology   \n",
      "4         AMZN       Amazon.com, Inc.     884.67      1997  Consumer Services   \n",
      "5           FB         Facebook, Inc.     139.39      2012         Technology   \n",
      "8         CSCO    Cisco Systems, Inc.      32.42      1990         Technology   \n",
      "\n",
      "                                          Industry Last Update  Market_Cap_m  \n",
      "2  Computer Software: Programming, Data Processing  2017-04-23      569000.0  \n",
      "3          Computer Software: Prepackaged Software  2017-04-26      502000.0  \n",
      "4                   Catalog/Specialty Distribution  2017-04-24      422000.0  \n",
      "5  Computer Software: Programming, Data Processing  2017-04-26      403000.0  \n",
      "8                Computer Communications Equipment  2017-04-23      162000.0  \n"
     ]
    },
    {
     "data": {
      "image/png": "[encoded data removed]",
      "text/plain": [
       "<matplotlib.figure.Figure at 0x1186b0390>"
      ]
     },
     "metadata": {},
     "output_type": "display_data"
    }
   ],
   "source": [
    "# Inspect listings\n",
    "nasdaq.info()\n",
    "\n",
    "# Show listings head\n",
    "print(nasdaq.head())\n",
    "\n",
    "## Create market_cap_m\n",
    "#nasdaq['market_cap_m'] = nasdaq['Market Capitalization'].div(1e6)\n",
    "\n",
    "# Select companies with IPO after 1985\n",
    "nasdaq = nasdaq[nasdaq['IPO Year'] > 1985]\n",
    "\n",
    "# Drop missing values and convert to integers\n",
    "nasdaq['IPO Year'] = nasdaq['IPO Year'].dropna().astype(int)\n",
    "\n",
    "# Calculate the median market cap by IPO Year and sort the index\n",
    "ipo_by_year = nasdaq.groupby('IPO Year').Market_Cap_m.median().sort_index()\n",
    "\n",
    "# Plot results as a bar chart\n",
    "ipo_by_year.plot(kind='bar')\n",
    "\n",
    "# Show the plot\n",
    "plt.show()"
   ]
  },
  {
   "cell_type": "code",
   "execution_count": 27,
   "metadata": {
    "scrolled": false
   },
   "outputs": [
    {
     "name": "stdout",
     "output_type": "stream",
     "text": [
      "<class 'pandas.core.frame.DataFrame'>\n",
      "Int64Index: 568 entries, 2 to 1114\n",
      "Data columns (total 8 columns):\n",
      "Stock Symbol    568 non-null object\n",
      "Company Name    568 non-null object\n",
      "Last Sale       568 non-null float64\n",
      "IPO Year        568 non-null int64\n",
      "Sector          551 non-null object\n",
      "Industry        551 non-null object\n",
      "Last Update     568 non-null datetime64[ns]\n",
      "Market_Cap_m    568 non-null float64\n",
      "dtypes: datetime64[ns](1), float64(2), int64(1), object(4)\n",
      "memory usage: 39.9+ KB\n",
      "_______________\n",
      "                      IPO Year                                          \\\n",
      "                         count         mean       std     min      25%   \n",
      "Sector                                                                   \n",
      "Basic Industries           6.0  1997.000000  9.633276  1986.0  1993.75   \n",
      "Capital Goods             34.0  2000.382353  8.934152  1986.0  1993.25   \n",
      "Consumer Durables         10.0  2001.800000  7.330302  1993.0  1995.50   \n",
      "Consumer Non-Durables     17.0  1998.705882  9.405881  1986.0  1993.00   \n",
      "Consumer Services         84.0  2003.345238  8.777702  1987.0  1995.00   \n",
      "Energy                    11.0  2007.909091  8.802892  1993.0  2000.50   \n",
      "Finance                   59.0  2005.203390  9.075886  1986.0  1998.00   \n",
      "Health Care              129.0  2007.108527  8.943608  1986.0  2000.00   \n",
      "Miscellaneous             23.0  2004.434783  7.518620  1987.0  1999.00   \n",
      "Public Utilities          12.0  2008.833333  7.529739  1994.0  2004.50   \n",
      "Technology               153.0  2003.071895  9.001538  1986.0  1996.00   \n",
      "Transportation            13.0  1995.846154  8.970750  1986.0  1986.00   \n",
      "\n",
      "                                               Last Sale              \\\n",
      "                          50%      75%     max     count        mean   \n",
      "Sector                                                                 \n",
      "Basic Industries       1996.0  1996.00  2015.0       6.0   54.610000   \n",
      "Capital Goods          1998.5  2006.75  2016.0      34.0   51.037353   \n",
      "Consumer Durables      2001.5  2006.00  2014.0      10.0   46.303000   \n",
      "Consumer Non-Durables  1996.0  2005.00  2015.0      17.0   50.276176   \n",
      "Consumer Services      2003.5  2012.25  2017.0      84.0   63.833452   \n",
      "Energy                 2012.0  2016.00  2016.0      11.0   29.125455   \n",
      "Finance                2006.0  2013.00  2017.0      59.0   46.177458   \n",
      "Health Care            2012.0  2014.00  2017.0     129.0   53.219961   \n",
      "Miscellaneous          2006.0  2011.00  2015.0      23.0  129.564565   \n",
      "Public Utilities       2013.5  2014.25  2015.0      12.0   19.923333   \n",
      "Technology             2002.0  2012.00  2017.0     153.0   51.991046   \n",
      "Transportation         1996.0  2002.00  2011.0      13.0   54.397692   \n",
      "\n",
      "                           ...                         Market_Cap_m  \\\n",
      "                           ...            75%      max        count   \n",
      "Sector                     ...                                        \n",
      "Basic Industries           ...        85.0175    94.99          6.0   \n",
      "Capital Goods              ...        56.5350   304.00         34.0   \n",
      "Consumer Durables          ...        55.9000   116.43         10.0   \n",
      "Consumer Non-Durables      ...        67.0000   132.67         17.0   \n",
      "Consumer Services          ...        59.1500   884.67         84.0   \n",
      "Energy                     ...        25.9000   105.04         11.0   \n",
      "Finance                    ...        61.1750   192.56         59.0   \n",
      "Health Care                ...        61.1000   764.79        129.0   \n",
      "Miscellaneous              ...        64.8750  1738.77         23.0   \n",
      "Public Utilities           ...        21.8275    49.35         12.0   \n",
      "Technology                 ...        59.4900   823.56        153.0   \n",
      "Transportation             ...        80.6000   152.05         13.0   \n",
      "\n",
      "                                                                            \\\n",
      "                               mean           std         min          25%   \n",
      "Sector                                                                       \n",
      "Basic Industries        3324.461703   3262.416175  640.776045  1110.957056   \n",
      "Capital Goods           4100.158849   9227.722243  534.138080   811.177313   \n",
      "Consumer Durables       3238.965738   3896.565365  546.740582  1045.917875   \n",
      "Consumer Non-Durables   2631.791475   2052.441544  698.394072   993.531511   \n",
      "Consumer Services      11074.636679  47053.452739  545.475946   873.689030   \n",
      "Energy                  2726.797868   2579.983813  656.856723  1179.680267   \n",
      "Finance                 3230.643536   5926.183828  549.240000   733.676776   \n",
      "Health Care             4980.823850  12806.532669  541.479087   792.969920   \n",
      "Miscellaneous           8780.118762  18652.655813  595.901490  1292.644103   \n",
      "Public Utilities        1206.589578    518.662797  580.422500   787.643992   \n",
      "Technology             17386.676846  70306.706490  543.270991  1246.980867   \n",
      "Transportation          3869.963009   3287.537050  552.445919  1583.400644   \n",
      "\n",
      "                                                                \n",
      "                               50%          75%            max  \n",
      "Sector                                                          \n",
      "Basic Industries       1665.020709  5720.891274    7976.835456  \n",
      "Capital Goods          1208.484336  2264.405458   49614.832848  \n",
      "Consumer Durables      1823.263011  3483.022327   13620.922869  \n",
      "Consumer Non-Durables  2106.171062  3184.521847    7427.408669  \n",
      "Consumer Services      1987.566589  4773.307751  422000.000000  \n",
      "Energy                 1754.404901  3496.623754    9468.718827  \n",
      "Finance                1495.679561  3342.276504   39372.418940  \n",
      "Health Care            1258.137600  2910.187959   96817.927316  \n",
      "Miscellaneous          1926.997754  6477.470810   85496.045967  \n",
      "Public Utilities       1086.492236  1659.088657    2060.466866  \n",
      "Technology             2421.854329  6542.943258  569000.000000  \n",
      "Transportation         2529.317235  6646.778622   10557.013632  \n",
      "\n",
      "[12 rows x 24 columns]\n",
      "_______________\n",
      "                     Sector               \n",
      "IPO Year      count  Basic Industries              6.000000\n",
      "                     Capital Goods                34.000000\n",
      "                     Consumer Durables            10.000000\n",
      "                     Consumer Non-Durables        17.000000\n",
      "                     Consumer Services            84.000000\n",
      "                     Energy                       11.000000\n",
      "                     Finance                      59.000000\n",
      "                     Health Care                 129.000000\n",
      "                     Miscellaneous                23.000000\n",
      "                     Public Utilities             12.000000\n",
      "                     Technology                  153.000000\n",
      "                     Transportation               13.000000\n",
      "              mean   Basic Industries           1997.000000\n",
      "                     Capital Goods              2000.382353\n",
      "                     Consumer Durables          2001.800000\n",
      "                     Consumer Non-Durables      1998.705882\n",
      "                     Consumer Services          2003.345238\n",
      "                     Energy                     2007.909091\n",
      "                     Finance                    2005.203390\n",
      "                     Health Care                2007.108527\n",
      "                     Miscellaneous              2004.434783\n",
      "                     Public Utilities           2008.833333\n",
      "                     Technology                 2003.071895\n",
      "                     Transportation             1995.846154\n",
      "              std    Basic Industries              9.633276\n",
      "                     Capital Goods                 8.934152\n",
      "                     Consumer Durables             7.330302\n",
      "                     Consumer Non-Durables         9.405881\n",
      "                     Consumer Services             8.777702\n",
      "                     Energy                        8.802892\n",
      "                                                  ...      \n",
      "Market_Cap_m  50%    Finance                    1495.679561\n",
      "                     Health Care                1258.137600\n",
      "                     Miscellaneous              1926.997754\n",
      "                     Public Utilities           1086.492236\n",
      "                     Technology                 2421.854329\n",
      "                     Transportation             2529.317235\n",
      "              75%    Basic Industries           5720.891274\n",
      "                     Capital Goods              2264.405458\n",
      "                     Consumer Durables          3483.022327\n",
      "                     Consumer Non-Durables      3184.521847\n",
      "                     Consumer Services          4773.307751\n",
      "                     Energy                     3496.623754\n",
      "                     Finance                    3342.276504\n",
      "                     Health Care                2910.187959\n",
      "                     Miscellaneous              6477.470810\n",
      "                     Public Utilities           1659.088657\n",
      "                     Technology                 6542.943258\n",
      "                     Transportation             6646.778622\n",
      "              max    Basic Industries           7976.835456\n",
      "                     Capital Goods             49614.832848\n",
      "                     Consumer Durables         13620.922869\n",
      "                     Consumer Non-Durables      7427.408669\n",
      "                     Consumer Services        422000.000000\n",
      "                     Energy                     9468.718827\n",
      "                     Finance                   39372.418940\n",
      "                     Health Care               96817.927316\n",
      "                     Miscellaneous             85496.045967\n",
      "                     Public Utilities           2060.466866\n",
      "                     Technology               569000.000000\n",
      "                     Transportation            10557.013632\n",
      "Length: 288, dtype: float64\n"
     ]
    }
   ],
   "source": [
    "# Inspect NASDAQ data\n",
    "nasdaq.info()\n",
    "\n",
    "# Create market_cap_m\n",
    "#nasdaq['market_cap_m'] = nasdaq['Market Capitalization'].div(1e6)\n",
    "\n",
    "# Drop the Market Capitalization column\n",
    "#nasdaq.drop('Market Capitalization', axis=1, inplace=True)\n",
    "\n",
    "# Group nasdaq by Sector\n",
    "nasdaq_by_sector = nasdaq.groupby('Sector')\n",
    "\n",
    "# Create summary statistics by sector\n",
    "summary = nasdaq_by_sector.describe()\n",
    "\n",
    "# Print the summary\n",
    "print('_______________')\n",
    "print(summary)\n",
    "\n",
    "# Unstack \n",
    "summary = summary.unstack()\n",
    "\n",
    "# Print the summary again\n",
    "print('_______________')\n",
    "print(summary)"
   ]
  },
  {
   "cell_type": "code",
   "execution_count": null,
   "metadata": {
    "collapsed": true
   },
   "outputs": [],
   "source": [
    "# Group listings by Sector and Exchange\n",
    "by_sector_exchange = listings.groupby(['Sector', 'Exchange'])\n",
    "\n",
    "# Calculate the median market cap\n",
    "mcap_by_sector_exchange = by_sector_exchange.market_cap_m.median()\n",
    "\n",
    "# Display the head of the result\n",
    "print(mcap_by_sector_exchange.head())\n",
    "\n",
    "# Unstack mcap_by_sector_exchange\n",
    "mcap_unstacked = mcap_by_sector_exchange.unstack()\n",
    "\n",
    "# Plot as a bar chart\n",
    "mcap_unstacked.plot(kind='bar', title='Median Market Capitalization by Exchange')\n",
    "\n",
    "# Set the x label\n",
    "plt.xlabel('USD mn')\n",
    "\n",
    "# Show the plot\n",
    "plt.show()"
   ]
  },
  {
   "cell_type": "markdown",
   "metadata": {},
   "source": [
    "The .agg() function allows you to aggregate your data in even more ways by accepting two kinds of arguments. Providing a list of names of statistical methods calculates more than one summary statistic at once, and providing a dictionary where keys are column names and values are statistical methods applies a particular summary statistic to a designated column.\n",
    "\n",
    "In this exercise, you will calculate the mean, median, and standard deviation of market capitalizations in millions of USD."
   ]
  },
  {
   "cell_type": "code",
   "execution_count": null,
   "metadata": {
    "collapsed": true
   },
   "outputs": [],
   "source": [
    "# Create market_cap_m\n",
    "listings['market_cap_m'] = listings['Market Capitalization'].div(1e6)\n",
    "\n",
    "# Group listing by both Sector and Exchange\n",
    "by_sector_exchange = listings.groupby(['Sector', 'Exchange'])\n",
    "\n",
    "# Subset market_cap_m of by_sector_exchange\n",
    "bse_mcm = by_sector_exchange['market_cap_m']\n",
    "\n",
    "# Calculate mean, median, and std in summary\n",
    "summary = bse_mcm.agg({'Average': 'mean', 'Median': 'median', 'Standard Deviation': 'std'})\n",
    "\n",
    "# Print the summary\n",
    "print(summary)"
   ]
  },
  {
   "cell_type": "markdown",
   "metadata": {},
   "source": [
    "To create a basic visualization of the number of observations per category in a dataset, the seaborn countplot() function is usually the way to go:\n",
    "\n",
    "seaborn.countplot(x=None, hue=None, data=None, ...)\n",
    "The x parameter contains the names of the variables in the data argument, which is the DataFrame to be plotted. hue identifies an additional categorical variable with color. These are three optional parameters out of many accepted by the function; for a full list, check out the seaborn documentation.\n",
    "\n",
    "Let's use this tool to compare the timeline of IPO activity across the three exchanges."
   ]
  },
  {
   "cell_type": "code",
   "execution_count": null,
   "metadata": {
    "collapsed": true
   },
   "outputs": [],
   "source": [
    "# Select IPOs after 2000\n",
    "listings = listings[listings['IPO Year'] > 2000]\n",
    "\n",
    "# Convert IPO Year to integer\n",
    "listings['IPO Year'] = listings['IPO Year'].astype(int)\n",
    "\n",
    "# Create a countplot\n",
    "sns.countplot(x='IPO Year', hue='Exchange', data=listings)\n",
    "\n",
    "# Rotate xticks and show result\n",
    "plt.xticks(rotation=45)\n",
    "\n",
    "# Show the plot\n",
    "plt.show()"
   ]
  },
  {
   "cell_type": "markdown",
   "metadata": {},
   "source": [
    "The seaborn barplot() function shows point estimates and confidence intervals as rectangular bars; the default function displays the mean, but it can also represent another summary statistic if you pass a particular numpy function to its estimator parameter:\n",
    "\n",
    "seaborn.barplot(x=None, y=None, data=None, estimator=<function mean>, ...)\n",
    "In this exercise, you will use an imported World Bank dataset containing global income per capita data for 189 countries since the year 2000. To practice displaying of summary statistics per category, you will plot and compare the median global income per capita since 2000 to the mean."
   ]
  },
  {
   "cell_type": "code",
   "execution_count": null,
   "metadata": {
    "collapsed": true
   },
   "outputs": [],
   "source": [
    "# Inspect the data\n",
    "income_trend.info()\n",
    "\n",
    "# Create barplot\n",
    "sns.barplot(x='Year', y='Income per Capita', data=income_trend)\n",
    "\n",
    "# Rotate xticks\n",
    "plt.xticks(rotation=45)\n",
    "\n",
    "# Show the plot\n",
    "plt.show()\n",
    "\n",
    "# Close the plot\n",
    "plt.close()\n",
    "\n",
    "# Create second barplot\n",
    "sns.barplot(x='Year', y='Income per Capita', data=income_trend, estimator=np.median)\n",
    "\n",
    "# Rotate xticks\n",
    "plt.xticks(rotation=45)\n",
    "\n",
    "# Show the plot\n",
    "plt.show()"
   ]
  },
  {
   "cell_type": "markdown",
   "metadata": {},
   "source": [
    "The seaborn pointplot() function facilitates the comparison of summary statistics of a numerical variable for different levels of categorical variables:\n",
    "\n",
    "seaborn.pointplot(x=None, y=None, hue=None, data=None, ...)\n",
    "In the video, you saw a visualization for the market capitalization (the numerical variable) differentiated by whether the IPO (the categorical variable) occurred before (first level) or after (second level) the year 2000.\n",
    "\n",
    "In this exercise, you will compare the mean market capitalization for each year since 2000 for the NYSE and the NASDAQ, after excluding outliers beyond the 95th percentile."
   ]
  },
  {
   "cell_type": "code",
   "execution_count": null,
   "metadata": {
    "collapsed": true
   },
   "outputs": [],
   "source": [
    "# Import the seaborn library as sns\n",
    "import seaborn as sns\n",
    "\n",
    "# Exclude IPOs before 2000 and from the 'amex'\n",
    "listings = listings[(listings['IPO Year'] < 2000) & (listings.Exchange != 'amex')]\n",
    "\n",
    "# Convert IPO Year to integer\n",
    "listings['IPO Year'] = listings['IPO Year'].astype(int)\n",
    "\n",
    "# Create market_cap_m\n",
    "listings['market_cap_m'] = listings['Market Capitalization'].div(1e6)\n",
    "\n",
    "# Exclude outliers\n",
    "listings = listings[listings.market_cap_m < listings.market_cap_m.quantile(.95)]\n",
    "\n",
    "# Create the pointplot\n",
    "sns.pointplot(x='IPO Year', y='market_cap_m', hue='Exchange', data=listings)\n",
    "\n",
    "# Rotate xticks\n",
    "plt.xticks(rotation=45)\n",
    "\n",
    "# Show the plot\n",
    "plt.show()"
   ]
  },
  {
   "cell_type": "code",
   "execution_count": null,
   "metadata": {
    "collapsed": true
   },
   "outputs": [],
   "source": []
  },
  {
   "cell_type": "code",
   "execution_count": null,
   "metadata": {
    "collapsed": true
   },
   "outputs": [],
   "source": [
    "# Inspect the inflation data\n",
    "inflation.info()\n",
    "\n",
    "# Create inflation_by_country\n",
    "inflation_by_country = inflation.groupby('Country')\n",
    "\n",
    "# Iterate over inflation_by_country and plot the inflation time series per country\n",
    "for country, data in inflation_by_country:\n",
    "    # Plot the data\n",
    "    data.plot(title=country)\n",
    "    # Show the plot\n",
    "    plt.show()"
   ]
  },
  {
   "cell_type": "markdown",
   "metadata": {},
   "source": [
    "As you saw in the video, the boxplot() function displays key quantiles of a distribution with respect to categories, where y represents a quantitative variable, and x a categorical variable. In statistics, this kind of distribution is known as a box-and-whisker plot.\n",
    "\n",
    "A complement to a box plot is a swarmplot(), which draws a categorical scatterplot that displays all categorical observations without overlapping; it takes similar arguments to boxplot():\n",
    "\n",
    "seaborn.boxplot(x=None, y=None, data=None, ...)\n",
    "seaborn.swarmplot(x=None, y=None, data=None, ...)\n",
    "In this final exercise, you will compare the historical distributions of inflation rates by country - specifically China, India, and the US - instead of by time series trends."
   ]
  },
  {
   "cell_type": "code",
   "execution_count": null,
   "metadata": {
    "collapsed": true
   },
   "outputs": [],
   "source": [
    "# Create boxplot\n",
    "sns.boxplot(x='Country', y='Inflation', data=inflation)\n",
    "\n",
    "# Show the plot\n",
    "plt.show()\n",
    "\n",
    "# Close the plot\n",
    "plt.close()\n",
    "\n",
    "# Create swarmplot\n",
    "sns.swarmplot(x='Country', y='Inflation', data=inflation)\n",
    "\n",
    "# Show the plot\n",
    "plt.show()"
   ]
  }
 ],
 "metadata": {
  "kernelspec": {
   "display_name": "Python 3",
   "language": "python",
   "name": "python3"
  },
  "language_info": {
   "codemirror_mode": {
    "name": "ipython",
    "version": 3
   },
   "file_extension": ".py",
   "mimetype": "text/x-python",
   "name": "python",
   "nbconvert_exporter": "python",
   "pygments_lexer": "ipython3",
   "version": "3.6.4"
  }
 },
 "nbformat": 4,
 "nbformat_minor": 2
}
