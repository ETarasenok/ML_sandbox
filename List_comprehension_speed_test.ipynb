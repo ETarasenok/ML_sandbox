{
 "cells": [
  {
   "cell_type": "markdown",
   "metadata": {},
   "source": [
    "***Python List Comprehension With Examples***"
   ]
  },
  {
   "cell_type": "markdown",
   "metadata": {},
   "source": [
    "https://www.analyticsvidhya.com/blog/2016/01/python-tutorial-list-comprehension-examples/"
   ]
  },
  {
   "cell_type": "raw",
   "metadata": {},
   "source": [
    "for (set of values to iterate):\n",
    "  if (conditional filtering): \n",
    "    output_expression()"
   ]
  },
  {
   "cell_type": "raw",
   "metadata": {},
   "source": [
    "The same gets implemented in a simple LC construct in a single line as:\n",
    " [ output_expression() for(set of values to iterate) if(conditional filtering) ]"
   ]
  },
  {
   "cell_type": "code",
   "execution_count": 2,
   "metadata": {},
   "outputs": [
    {
     "name": "stdout",
     "output_type": "stream",
     "text": [
      "1\n",
      "4\n",
      "9\n",
      "16\n",
      "25\n",
      "36\n",
      "49\n",
      "64\n",
      "81\n",
      "100\n"
     ]
    }
   ],
   "source": [
    "for i in range(1,101):\n",
    "    if int(i**0.5)==i**0.5:\n",
    "        print(i)"
   ]
  },
  {
   "cell_type": "code",
   "execution_count": 3,
   "metadata": {},
   "outputs": [
    {
     "data": {
      "text/plain": [
       "[1, 4, 9, 16, 25, 36, 49, 64, 81, 100]"
      ]
     },
     "execution_count": 3,
     "metadata": {},
     "output_type": "execute_result"
    }
   ],
   "source": [
    "[i for i in range(1,101) if int(i**0.5) == i**0.5]"
   ]
  },
  {
   "cell_type": "markdown",
   "metadata": {},
   "source": [
    "- LC will always return a result, whether you use the result or nor.\n",
    "- The iteration and conditional expressions can be nested with multiple instances.\n",
    "- Even the overall LC can be nested inside another LC.\n",
    "- Multiple variables can be iterated and manipulated at same time."
   ]
  },
  {
   "cell_type": "markdown",
   "metadata": {},
   "source": [
    "**Example 1: Flatten a Matrix**\n",
    "\n",
    "Aim: Take a matrix as input and return a list with each row placed on after the other."
   ]
  },
  {
   "cell_type": "code",
   "execution_count": 6,
   "metadata": {},
   "outputs": [],
   "source": [
    "def eg1_for(matrix):\n",
    "    flat = []\n",
    "    for row in matrix:\n",
    "        for x in row:\n",
    "            flat.append(x)\n",
    "    return flat \n",
    "\n",
    "def eg1_ls(matrix):\n",
    "    return [x for row in matrix for x in row]"
   ]
  },
  {
   "cell_type": "code",
   "execution_count": 15,
   "metadata": {},
   "outputs": [
    {
     "name": "stdout",
     "output_type": "stream",
     "text": [
      "original matrix: [[0, 1, 2, 3, 4], [5, 6, 7, 8, 9], [10, 11, 12, 13, 14]]\n",
      "for loop result: [0, 1, 2, 3, 4, 5, 6, 7, 8, 9, 10, 11, 12, 13, 14]\n",
      "LC result:       [0, 1, 2, 3, 4, 5, 6, 7, 8, 9, 10, 11, 12, 13, 14]\n"
     ]
    }
   ],
   "source": [
    "matrix = [ list(range(0,5)), list(range(5,10)), list(range(10,15))]\n",
    "print('original matrix: ' + str(matrix))\n",
    "print('for loop result: ' + str(eg1_for(matrix)))\n",
    "print('LC result:       ' + str(eg1_ls(matrix)))"
   ]
  },
  {
   "cell_type": "markdown",
   "metadata": {},
   "source": [
    "**Example 2: Removing vowels from a sentence**\n",
    "\n",
    "Aim: Take a string as input and return a string with vowels removed."
   ]
  },
  {
   "cell_type": "code",
   "execution_count": 19,
   "metadata": {},
   "outputs": [],
   "source": [
    "def eg2_for(sentence):\n",
    "    vowels = 'aeiou'\n",
    "    filtered_list = []\n",
    "    for l in sentence:\n",
    "        if l not in vowels:\n",
    "            filtered_list.append(l)\n",
    "    return ''.join(filtered_list)\n",
    "\n",
    "def eg2_lc(sentence):\n",
    "    vowels = 'aeiou'\n",
    "    return ''.join([l for l in sentence if l not in vowels])\n",
    "    "
   ]
  },
  {
   "cell_type": "code",
   "execution_count": 20,
   "metadata": {},
   "outputs": [
    {
     "name": "stdout",
     "output_type": "stream",
     "text": [
      "For loop result: My nm s Egr\n",
      "LC result:       My nm s Egr\n"
     ]
    }
   ],
   "source": [
    "sentence = 'My name is Egor'\n",
    "print('For loop result: ' + eg2_for(sentence))\n",
    "print('LC result:       ' + eg2_lc(sentence))"
   ]
  },
  {
   "cell_type": "markdown",
   "metadata": {},
   "source": [
    "**Example 3: Dictionary Comprehension**\n",
    "\n",
    "Aim: Take two list of same length as input and return a dictionary with one as keys and other as values."
   ]
  },
  {
   "cell_type": "code",
   "execution_count": 22,
   "metadata": {},
   "outputs": [],
   "source": [
    "def eg3_for(keys, values):\n",
    "    dic = {}\n",
    "    for i in range (len(keys)):\n",
    "        dic[keys[i]] = values[i]\n",
    "    return dic\n",
    "\n",
    "def eg3_lc(keys, values):\n",
    "    return {keys[i] : values [i] for i in range(len(keys))}"
   ]
  },
  {
   "cell_type": "code",
   "execution_count": 23,
   "metadata": {},
   "outputs": [
    {
     "name": "stdout",
     "output_type": "stream",
     "text": [
      "FOR-loop result: {'India': 'New Delhi', 'Pakistan': 'Islamabad', 'Nepal': 'Kathmandu', 'Bhutan': 'Thimphu', 'China': 'Beijing', 'Bangladesh': 'Dhaka'}\n",
      "LC result      : {'India': 'New Delhi', 'Pakistan': 'Islamabad', 'Nepal': 'Kathmandu', 'Bhutan': 'Thimphu', 'China': 'Beijing', 'Bangladesh': 'Dhaka'}\n"
     ]
    }
   ],
   "source": [
    "country = ['India', 'Pakistan', 'Nepal', 'Bhutan', 'China', 'Bangladesh']\n",
    "capital = ['New Delhi', 'Islamabad','Kathmandu', 'Thimphu', 'Beijing', 'Dhaka']\n",
    "\n",
    "print (\"FOR-loop result: \" + str(eg3_for(country, capital)))\n",
    "print (\"LC result      : \" + str(eg3_lc(country, capital)))"
   ]
  },
  {
   "cell_type": "markdown",
   "metadata": {},
   "source": [
    "**Comparing Runtime**"
   ]
  },
  {
   "cell_type": "code",
   "execution_count": null,
   "metadata": {},
   "outputs": [],
   "source": []
  },
  {
   "cell_type": "code",
   "execution_count": 31,
   "metadata": {},
   "outputs": [
    {
     "name": "stdout",
     "output_type": "stream",
     "text": [
      "2.97 µs ± 128 ns per loop (mean ± std. dev. of 7 runs, 100000 loops each)\n"
     ]
    }
   ],
   "source": [
    "#Method 1: For-Loop\n",
    "def square_for(arr):\n",
    "    result = []\n",
    "    for i in arr:\n",
    "        result.append(i**2)\n",
    "    return result\n",
    "\n",
    "%timeit square_for(range(1,11))"
   ]
  },
  {
   "cell_type": "code",
   "execution_count": 28,
   "metadata": {},
   "outputs": [
    {
     "name": "stdout",
     "output_type": "stream",
     "text": [
      "307 ns ± 9.74 ns per loop (mean ± std. dev. of 7 runs, 1000000 loops each)\n"
     ]
    }
   ],
   "source": [
    "#Method 2: Map Function\n",
    "def square_map(arr):\n",
    "    return(lambda x: x**2, arr)\n",
    "\n",
    "%timeit square_map(range(1,11))"
   ]
  },
  {
   "cell_type": "code",
   "execution_count": 32,
   "metadata": {},
   "outputs": [
    {
     "name": "stdout",
     "output_type": "stream",
     "text": [
      "2.69 µs ± 105 ns per loop (mean ± std. dev. of 7 runs, 100000 loops each)\n"
     ]
    }
   ],
   "source": [
    "#Method 3: List comprehension:\n",
    "def square_lc(arr):\n",
    "    return [i**2 for i in arr]\n",
    "%timeit square_lc(range(1,11))"
   ]
  },
  {
   "cell_type": "code",
   "execution_count": null,
   "metadata": {},
   "outputs": [],
   "source": []
  },
  {
   "cell_type": "code",
   "execution_count": 30,
   "metadata": {},
   "outputs": [
    {
     "name": "stdout",
     "output_type": "stream",
     "text": [
      "2.05 µs ± 101 ns per loop (mean ± std. dev. of 7 runs, 100000 loops each)\n"
     ]
    }
   ],
   "source": [
    "#Method 1: For-Loop\n",
    "def square_even_for(arr):\n",
    "    result = []\n",
    "    for i in arr:\n",
    "        if i%2 == 0:\n",
    "            result.append(i**2)\n",
    "    return result\n",
    "%timeit square_even_for(range(1,11))"
   ]
  },
  {
   "cell_type": "code",
   "execution_count": 33,
   "metadata": {},
   "outputs": [
    {
     "name": "stdout",
     "output_type": "stream",
     "text": [
      "576 ns ± 11.5 ns per loop (mean ± std. dev. of 7 runs, 1000000 loops each)\n"
     ]
    }
   ],
   "source": [
    "#Method 2: Map Function\n",
    "def square_even_map(arr):\n",
    "    return filter(lambda x: x is not None, map(lambda x: X**2 if x%2 ==0 else None, arr))\n",
    "%timeit square_even_map(range(1,11))"
   ]
  },
  {
   "cell_type": "code",
   "execution_count": 34,
   "metadata": {},
   "outputs": [
    {
     "name": "stdout",
     "output_type": "stream",
     "text": [
      "2.03 µs ± 110 ns per loop (mean ± std. dev. of 7 runs, 100000 loops each)\n"
     ]
    }
   ],
   "source": [
    "#Method 3: List comprehension:\n",
    "def square_even_lc(arr):\n",
    "    return [i**2 for i in arr if i%2==0]\n",
    "%timeit square_even_lc(range(1,11))"
   ]
  },
  {
   "cell_type": "markdown",
   "metadata": {},
   "source": [
    "**Getting into crux of the matter**"
   ]
  },
  {
   "cell_type": "code",
   "execution_count": 35,
   "metadata": {},
   "outputs": [
    {
     "name": "stdout",
     "output_type": "stream",
     "text": [
      "402 ns ± 22.1 ns per loop (mean ± std. dev. of 7 runs, 1000000 loops each)\n"
     ]
    }
   ],
   "source": [
    "#Method 1: For-loop:\n",
    "def empty_for(arr):\n",
    "    for i in arr:\n",
    "        pass\n",
    "%timeit empty_for(range(1,11))"
   ]
  },
  {
   "cell_type": "code",
   "execution_count": 36,
   "metadata": {},
   "outputs": [
    {
     "name": "stdout",
     "output_type": "stream",
     "text": [
      "414 ns ± 10.6 ns per loop (mean ± std. dev. of 7 runs, 1000000 loops each)\n"
     ]
    }
   ],
   "source": [
    "#Method 2: Map\n",
    "def empty_map(arr):\n",
    "    map(lambda x: None,arr)\n",
    "%timeit empty_map(range(1,11))"
   ]
  },
  {
   "cell_type": "code",
   "execution_count": 37,
   "metadata": {},
   "outputs": [
    {
     "name": "stdout",
     "output_type": "stream",
     "text": [
      "668 ns ± 12.5 ns per loop (mean ± std. dev. of 7 runs, 1000000 loops each)\n"
     ]
    }
   ],
   "source": [
    "#Method 3: LC\n",
    "def empty_lc(arr):\n",
    "    [None for i in arr]\n",
    "%timeit empty_lc(range(1,11))"
   ]
  },
  {
   "cell_type": "markdown",
   "metadata": {},
   "source": [
    "***simple operation of multiplying the number by 2 but we need not store the result***"
   ]
  },
  {
   "cell_type": "code",
   "execution_count": 38,
   "metadata": {},
   "outputs": [
    {
     "name": "stdout",
     "output_type": "stream",
     "text": [
      "598 ns ± 24.4 ns per loop (mean ± std. dev. of 7 runs, 1000000 loops each)\n"
     ]
    }
   ],
   "source": [
    "#Method 1: For-loop:\n",
    "def x2_for(arr):\n",
    "    for i in arr:\n",
    "        i*2\n",
    "%timeit x2_for(range(1,11))"
   ]
  },
  {
   "cell_type": "code",
   "execution_count": 39,
   "metadata": {},
   "outputs": [
    {
     "name": "stdout",
     "output_type": "stream",
     "text": [
      "418 ns ± 13.9 ns per loop (mean ± std. dev. of 7 runs, 1000000 loops each)\n"
     ]
    }
   ],
   "source": [
    "#Method 2: Map\n",
    "def x2_map(arr):\n",
    "    map(lambda x: x*2,arr)\n",
    "%timeit x2_map(range(1,11))"
   ]
  },
  {
   "cell_type": "code",
   "execution_count": 40,
   "metadata": {},
   "outputs": [
    {
     "name": "stdout",
     "output_type": "stream",
     "text": [
      "808 ns ± 16.7 ns per loop (mean ± std. dev. of 7 runs, 1000000 loops each)\n"
     ]
    }
   ],
   "source": [
    "#Method 3: LC\n",
    "def x2_lc(arr):\n",
    "    [i*2 for i in arr]\n",
    "%timeit x2_lc(range(1,11))"
   ]
  },
  {
   "cell_type": "code",
   "execution_count": 43,
   "metadata": {},
   "outputs": [
    {
     "name": "stdout",
     "output_type": "stream",
     "text": [
      "list_comprehension.........1.8461s\n",
      "for_loop...................2.6564s\n",
      "for_loop_append............2.4772s\n",
      "for_loop_range.............2.6898s\n",
      "while_loop.................3.1877s\n",
      "calc_map...................2.6380s\n"
     ]
    }
   ],
   "source": [
    "import timeit\n",
    "from random import shuffle\n",
    "\n",
    "# generate a long list of integers\n",
    "mlst = list(range(0, 1000000))\n",
    "\n",
    "# randomly sort the list\n",
    "shuffle(mlst)\n",
    "\n",
    "# number of benchmark passes\n",
    "n = 10\n",
    "\n",
    "\n",
    "#####################\n",
    "# functions to time #\n",
    "#####################\n",
    "\n",
    "def list_comprehension(lst):\n",
    "    return [x + 1 for x in lst]\n",
    "\n",
    "\n",
    "def for_loop(lst):\n",
    "    for k, v in enumerate(lst):\n",
    "        lst[k] = v + 1\n",
    "\n",
    "\n",
    "def for_loop_append(lst):\n",
    "    tmp = []\n",
    "    for item in lst:\n",
    "        tmp.append(item + 1)\n",
    "\n",
    "\n",
    "def for_loop_range(lst):\n",
    "    for k in range(len(lst)):\n",
    "        lst[k] += 1\n",
    "    return lst\n",
    "\n",
    "\n",
    "def while_loop(lst):\n",
    "    it = iter(lst)\n",
    "    tmp = []\n",
    "    while it:\n",
    "        try:\n",
    "            tmp.append(next(it)+1)\n",
    "        except StopIteration:\n",
    "            break\n",
    "    return tmp\n",
    "\n",
    "\n",
    "def calc_map(lst):\n",
    "    lst = map(lambda x: x + 1, lst)\n",
    "    return list(lst)\n",
    "\n",
    "\n",
    "############################################\n",
    "# helper functions for timing and printing #\n",
    "############################################   \n",
    "\n",
    "def print_time(func_name):\n",
    "    print(\"{:.<25}{:.>8.4f}s\".format(func_name, timer(func_name)))\n",
    "\n",
    "\n",
    "def timer(func):\n",
    "    return timeit.timeit(stmt=\"{}(mlst)\".format(func),\n",
    "                         setup=\"from __main__ import mlst, {}\".format(func),\n",
    "                         number=n)\n",
    "\n",
    "#################\n",
    "# run the tests #\n",
    "#################\n",
    "\n",
    "print_time(\"list_comprehension\")\n",
    "print_time(\"for_loop\")\n",
    "print_time(\"for_loop_append\")\n",
    "print_time(\"for_loop_range\")\n",
    "print_time(\"while_loop\")\n",
    "print_time(\"calc_map\")"
   ]
  },
  {
   "cell_type": "code",
   "execution_count": null,
   "metadata": {},
   "outputs": [],
   "source": []
  }
 ],
 "metadata": {
  "kernelspec": {
   "display_name": "Python 3",
   "language": "python",
   "name": "python3"
  },
  "language_info": {
   "codemirror_mode": {
    "name": "ipython",
    "version": 3
   },
   "file_extension": ".py",
   "mimetype": "text/x-python",
   "name": "python",
   "nbconvert_exporter": "python",
   "pygments_lexer": "ipython3",
   "version": "3.6.4"
  }
 },
 "nbformat": 4,
 "nbformat_minor": 2
}
