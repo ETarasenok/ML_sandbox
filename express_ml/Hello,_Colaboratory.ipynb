{
 "cells": [
  {
   "cell_type": "markdown",
   "metadata": {
    "colab_type": "text",
    "id": "9J7p406abzgl"
   },
   "source": [
    "## Welcome to Colaboratory!\n",
    "\n",
    "Colaboratory is a Google research project created to help disseminate machine learning education and research. It's a Jupyter notebook environment that requires no setup to use and runs entirely in the cloud.\n",
    "\n",
    "Colaboratory notebooks are stored in [Google Drive](https://drive.google.com) and can be shared just as you would with Google Docs or Sheets. Colaboratory is free to use.\n",
    "\n",
    "For more information, see our [FAQ](https://research.google.com/colaboratory/faq.html)."
   ]
  },
  {
   "cell_type": "markdown",
   "metadata": {
    "colab_type": "text",
    "id": "-s6YaDiZhfvo"
   },
   "source": [
    "## GPU Support (NEW!)\n",
    "\n",
    "Colab now supports running TensorFlow computations on a GPU.\n",
    "Simply select \"GPU\" in the Accelerator drop-down in Notebook Settings (either through the Edit menu or the command palette at cmd/ctrl-shift-P)."
   ]
  },
  {
   "cell_type": "code",
   "execution_count": 1,
   "metadata": {
    "colab": {
     "autoexec": {
      "startup": false,
      "wait_interval": 0
     },
     "base_uri": "https://localhost:8080/",
     "height": 34,
     "output_extras": [
      {}
     ]
    },
    "colab_type": "code",
    "id": "eeChKxGmiFfA",
    "outputId": "48a0313c-b03d-4139-9a9a-c197ad0275a0"
   },
   "outputs": [
    {
     "name": "stderr",
     "output_type": "stream",
     "text": [
      "/Users/egortarasenok/anaconda3/lib/python3.6/site-packages/h5py/__init__.py:36: FutureWarning: Conversion of the second argument of issubdtype from `float` to `np.floating` is deprecated. In future, it will be treated as `np.float64 == np.dtype(float).type`.\n",
      "  from ._conv import register_converters as _register_converters\n"
     ]
    },
    {
     "data": {
      "text/plain": [
       "''"
      ]
     },
     "execution_count": 1,
     "metadata": {},
     "output_type": "execute_result"
    }
   ],
   "source": [
    "import tensorflow as tf\n",
    "tf.test.gpu_device_name()"
   ]
  },
  {
   "cell_type": "markdown",
   "metadata": {
    "colab_type": "text",
    "id": "8iU2gnJFItM1"
   },
   "source": [
    "## Python 3\n",
    "\n",
    "Colab now supports both Python2 and Python3 for code execution. \n",
    "\n",
    "* When creating a new notebook, you'll have the choice between Python 2 and Python 3.\n",
    "* You can also change the language associated with a notebook; this information will be written into the `.ipynb` file itself, and thus will be preserved for future sessions."
   ]
  },
  {
   "cell_type": "code",
   "execution_count": 2,
   "metadata": {
    "colab": {
     "autoexec": {
      "startup": false,
      "wait_interval": 0
     },
     "height": 34,
     "output_extras": [
      {}
     ]
    },
    "colab_type": "code",
    "id": "na0VvPXmYKp1",
    "outputId": "8fc2e3eb-f805-4d7a-c6a4-da9d8143603c"
   },
   "outputs": [
    {
     "name": "stdout",
     "output_type": "stream",
     "text": [
      "Hello, Colaboratory from Python 3!\n"
     ]
    }
   ],
   "source": [
    "import sys\n",
    "print('Hello, Colaboratory from Python {}!'.format(sys.version_info[0]))"
   ]
  },
  {
   "cell_type": "markdown",
   "metadata": {
    "colab_type": "text",
    "id": "9wi5kfGdhK0R"
   },
   "source": [
    "## TensorFlow execution"
   ]
  },
  {
   "cell_type": "markdown",
   "metadata": {
    "colab_type": "text",
    "id": "S9GW-n-oYWIj"
   },
   "source": [
    "Colaboratory allows you to execute TensorFlow code in your browser with a single click. The example below adds two matrices.\n",
    "\n",
    "$\\begin{bmatrix}\n",
    "  1. & 1. & 1. \\\\\n",
    "  1. & 1. & 1. \\\\\n",
    "\\end{bmatrix} +\n",
    "\\begin{bmatrix}\n",
    "  1. & 2. & 3. \\\\\n",
    "  4. & 5. & 6. \\\\\n",
    "\\end{bmatrix} =\n",
    "\\begin{bmatrix}\n",
    "  2. & 3. & 4. \\\\\n",
    "  5. & 6. & 7. \\\\\n",
    "\\end{bmatrix}$"
   ]
  },
  {
   "cell_type": "code",
   "execution_count": 8,
   "metadata": {
    "colab": {
     "autoexec": {
      "startup": false,
      "wait_interval": 0
     },
     "base_uri": "https://localhost:8080/",
     "height": 51,
     "output_extras": [
      {}
     ]
    },
    "colab_type": "code",
    "id": "mwdQ1INEZKkb",
    "outputId": "f81c612c-9102-4dce-b70d-39c1672b7749"
   },
   "outputs": [
    {
     "data": {
      "text/plain": [
       "array([[2., 3., 4.],\n",
       "       [5., 6., 7.]], dtype=float32)"
      ]
     },
     "execution_count": 8,
     "metadata": {},
     "output_type": "execute_result"
    }
   ],
   "source": [
    "import tensorflow as tf\n",
    "import numpy as np\n",
    "\n",
    "with tf.Session():\n",
    "    input1 = tf.constant(1.0, shape=[2, 3])\n",
    "    input2 = tf.constant(np.reshape(np.arange(1.0, 7.0, dtype=np.float32), (2, 3)))\n",
    "    output = tf.add(input1, input2)\n",
    "    result = output.eval()\n",
    "\n",
    "result"
   ]
  },
  {
   "cell_type": "markdown",
   "metadata": {
    "colab_type": "text",
    "id": "yv2XIwi5hQ_g"
   },
   "source": [
    "## Visualization"
   ]
  },
  {
   "cell_type": "markdown",
   "metadata": {
    "colab_type": "text",
    "id": "rYs5mx2JZkmy"
   },
   "source": [
    "Colaboratory includes widely used libraries like [matplotlib](https://matplotlib.org/), simplifying visualization."
   ]
  },
  {
   "cell_type": "code",
   "execution_count": 9,
   "metadata": {
    "colab": {
     "autoexec": {
      "startup": false,
      "wait_interval": 0
     },
     "height": 360,
     "output_extras": [
      {}
     ]
    },
    "colab_type": "code",
    "id": "xqrc5C-IaA5J",
    "outputId": "3460cc84-faf8-4d8c-a4e6-96a6809c389a"
   },
   "outputs": [
    {
     "data": {
      "image/png": "[encoded data removed]",
      "text/plain": [
       "<Figure size 432x288 with 1 Axes>"
      ]
     },
     "metadata": {},
     "output_type": "display_data"
    }
   ],
   "source": [
    "%matplotlib inline \n",
    "import matplotlib.pyplot as plt\n",
    "import numpy as np\n",
    "\n",
    "x = np.arange(20)\n",
    "y = [x_i + np.random.randn(1) for x_i in x]\n",
    "a, b = np.polyfit(x, y, 1)\n",
    "_ = plt.plot(x, y, 'o', np.arange(20), a*np.arange(20)+b, '-')"
   ]
  },
  {
   "cell_type": "markdown",
   "metadata": {
    "colab_type": "text",
    "id": "AN_LRQ9NkOjs"
   },
   "source": [
    "Want to use a new library?  `pip install` it. For recipes to import commonly used libraries, refer to the [importing libraries example notebook](/notebooks/snippets/importing_libraries.ipynb)"
   ]
  },
  {
   "cell_type": "code",
   "execution_count": 10,
   "metadata": {
    "colab": {
     "autoexec": {
      "startup": false,
      "wait_interval": 0
     },
     "base_uri": "https://localhost:8080/",
     "height": 349,
     "output_extras": [
      {}
     ]
    },
    "colab_type": "code",
    "id": "FlQq0SUepQbd",
    "outputId": "6e404831-3336-4633-b76f-c6313ecdd356"
   },
   "outputs": [
    {
     "data": {
      "image/png": "[encoded data removed]",
      "text/plain": [
       "<Figure size 432x288 with 1 Axes>"
      ]
     },
     "metadata": {},
     "output_type": "display_data"
    }
   ],
   "source": [
    "# Only needs to be run once at the top of the notebook.\n",
    "!pip install -q matplotlib-venn\n",
    "\n",
    "# Now the newly-installed library can be used anywhere else in the notebook.\n",
    "from matplotlib_venn import venn2\n",
    "_ = venn2(subsets = (3, 2, 1))"
   ]
  },
  {
   "cell_type": "markdown",
   "metadata": {
    "colab_type": "text",
    "id": "-Rh3-Vt9Nev9"
   },
   "source": [
    "## For more information:\n",
    "- [Overview of Colaboratory](/notebooks/basic_features_overview.ipynb)\n",
    "- [Importing libraries and installing dependencies](/notebooks/snippets/importing_libraries.ipynb)\n",
    "- [Markdown guide](/notebooks/markdown_guide.ipynb)\n",
    "- [Charts](/notebooks/charts.ipynb)\n",
    "- [Widgets](/notebooks/widgets.ipynb)\n",
    "- [Loading and saving data: local files, Drive, Sheets, Google Cloud Storage](/notebooks/io.ipynb)\n",
    "- [Example Google Cloud BigQuery notebook](/notebooks/bigquery.ipynb)\n",
    "- [TensorFlow with GPU](/notebooks/gpu.ipynb)"
   ]
  }
 ],
 "metadata": {
  "colab": {
   "collapsed_sections": [],
   "default_view": {},
   "name": "Hello, Colaboratory",
   "provenance": [],
   "toc_visible": true,
   "version": "0.3.2",
   "views": {}
  },
  "kernelspec": {
   "display_name": "Python 3",
   "language": "python",
   "name": "python3"
  },
  "language_info": {
   "codemirror_mode": {
    "name": "ipython",
    "version": 3
   },
   "file_extension": ".py",
   "mimetype": "text/x-python",
   "name": "python",
   "nbconvert_exporter": "python",
   "pygments_lexer": "ipython3",
   "version": "3.6.4"
  }
 },
 "nbformat": 4,
 "nbformat_minor": 2
}
